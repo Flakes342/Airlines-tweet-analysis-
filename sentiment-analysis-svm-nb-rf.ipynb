{
 "cells": [
  {
   "cell_type": "markdown",
   "id": "c0053403",
   "metadata": {
    "_cell_guid": "b1076dfc-b9ad-4769-8c92-a6c4dae69d19",
    "_uuid": "8f2839f25d086af736a60e9eeb907d3b93b6e0e5",
    "execution": {
     "iopub.execute_input": "2021-10-08T12:58:11.812902Z",
     "iopub.status.busy": "2021-10-08T12:58:11.812144Z",
     "iopub.status.idle": "2021-10-08T12:58:11.829075Z",
     "shell.execute_reply": "2021-10-08T12:58:11.828148Z",
     "shell.execute_reply.started": "2021-10-08T12:58:11.812847Z"
    },
    "papermill": {
     "duration": 0.024545,
     "end_time": "2022-07-10T16:47:11.403104",
     "exception": false,
     "start_time": "2022-07-10T16:47:11.378559",
     "status": "completed"
    },
    "tags": []
   },
   "source": [
    "<div style=\"color:white;\n",
    "           display:fill;\n",
    "           border-radius:5px;\n",
    "           font-size:110%;\n",
    "           font-family:cursive;\n",
    "           letter-spacing:0.5px;\n",
    "           background-color:Black;\n",
    "           color:White;\n",
    "           font-family:Arial\n",
    "           \">\n",
    "<h1 style=\"text-align:center;font-weight: bold\">Twitter Sentiment Analysis With SVM, Naive Bayes,and Random Forest </h1>\n",
    "\n",
    "</div>\n",
    "<p><img src = \"https://newsin.asia/wp-content/uploads/2016/07/plane.jpg\" class=\"center\"> </p>\n"
   ]
  },
  {
   "cell_type": "markdown",
   "id": "af275786",
   "metadata": {
    "papermill": {
     "duration": 0.020182,
     "end_time": "2022-07-10T16:47:11.445438",
     "exception": false,
     "start_time": "2022-07-10T16:47:11.425256",
     "status": "completed"
    },
    "tags": []
   },
   "source": [
    "<div style=\"color:white;\n",
    "           display:fill;\n",
    "           border-radius:5px;\n",
    "           font-size:110%;\n",
    "           font-family:cursive;\n",
    "           letter-spacing:0.5px;\n",
    "           background-color:powderblue;\n",
    "           color:Black;\n",
    "           font-family:Arial\n",
    "           \">\n",
    "<h1 style=\"text-align:center;font-weight: bold\"> Importing Libraries </h1>\n",
    "</div>\n"
   ]
  },
  {
   "cell_type": "code",
   "execution_count": 1,
   "id": "f7eee6a8",
   "metadata": {
    "execution": {
     "iopub.execute_input": "2022-07-10T16:47:11.589593Z",
     "iopub.status.busy": "2022-07-10T16:47:11.588524Z",
     "iopub.status.idle": "2022-07-10T16:47:13.952197Z",
     "shell.execute_reply": "2022-07-10T16:47:13.953564Z",
     "shell.execute_reply.started": "2022-07-10T16:32:03.518671Z"
    },
    "papermill": {
     "duration": 2.486101,
     "end_time": "2022-07-10T16:47:13.954029",
     "exception": false,
     "start_time": "2022-07-10T16:47:11.467928",
     "status": "completed"
    },
    "tags": []
   },
   "outputs": [
    {
     "name": "stdout",
     "output_type": "stream",
     "text": [
      "[nltk_data] Downloading package punkt to /usr/share/nltk_data...\n",
      "[nltk_data]   Package punkt is already up-to-date!\n",
      "[nltk_data] Downloading package stopwords to /usr/share/nltk_data...\n",
      "[nltk_data]   Unzipping corpora/stopwords.zip.\n"
     ]
    }
   ],
   "source": [
    "import pandas as pd\n",
    "import numpy as np\n",
    "import seaborn as sns\n",
    "import re, nltk\n",
    "nltk.download('punkt')\n",
    "import matplotlib.pyplot as plt \n",
    "from sklearn.model_selection import train_test_split, StratifiedKFold, cross_val_score\n",
    "from sklearn import model_selection, naive_bayes, svm\n",
    "from sklearn.metrics import classification_report,confusion_matrix\n",
    "from sklearn.metrics import roc_auc_score\n",
    "from sklearn.metrics import recall_score\n",
    "from sklearn.metrics import f1_score\n",
    "from sklearn.metrics import accuracy_score\n",
    "from sklearn.metrics import precision_recall_curve\n",
    "from sklearn.metrics import auc\n",
    "from matplotlib import pyplot\n",
    "import string\n",
    "from nltk.corpus import stopwords\n",
    "nltk.download('stopwords')\n",
    "from sklearn.feature_extraction.text import CountVectorizer, TfidfVectorizer\n",
    "plt.style.use('fivethirtyeight')\n",
    "plt.style.use('dark_background')\n",
    "from sklearn.model_selection import cross_val_score\n",
    "from sklearn.naive_bayes import GaussianNB\n",
    "from sklearn.ensemble import RandomForestClassifier\n",
    "from sklearn.model_selection import GridSearchCV"
   ]
  },
  {
   "cell_type": "code",
   "execution_count": 2,
   "id": "e4f06889",
   "metadata": {
    "execution": {
     "iopub.execute_input": "2022-07-10T16:47:14.057020Z",
     "iopub.status.busy": "2022-07-10T16:47:14.055844Z",
     "iopub.status.idle": "2022-07-10T16:47:14.286894Z",
     "shell.execute_reply": "2022-07-10T16:47:14.287674Z",
     "shell.execute_reply.started": "2022-07-10T16:32:03.533093Z"
    },
    "papermill": {
     "duration": 0.275771,
     "end_time": "2022-07-10T16:47:14.287919",
     "exception": false,
     "start_time": "2022-07-10T16:47:14.012148",
     "status": "completed"
    },
    "tags": []
   },
   "outputs": [
    {
     "data": {
      "text/html": [
       "<div>\n",
       "<style scoped>\n",
       "    .dataframe tbody tr th:only-of-type {\n",
       "        vertical-align: middle;\n",
       "    }\n",
       "\n",
       "    .dataframe tbody tr th {\n",
       "        vertical-align: top;\n",
       "    }\n",
       "\n",
       "    .dataframe thead th {\n",
       "        text-align: right;\n",
       "    }\n",
       "</style>\n",
       "<table border=\"1\" class=\"dataframe\">\n",
       "  <thead>\n",
       "    <tr style=\"text-align: right;\">\n",
       "      <th></th>\n",
       "      <th>tweet_id</th>\n",
       "      <th>airline_sentiment</th>\n",
       "      <th>airline_sentiment_confidence</th>\n",
       "      <th>negativereason</th>\n",
       "      <th>negativereason_confidence</th>\n",
       "      <th>airline</th>\n",
       "      <th>airline_sentiment_gold</th>\n",
       "      <th>name</th>\n",
       "      <th>negativereason_gold</th>\n",
       "      <th>retweet_count</th>\n",
       "      <th>text</th>\n",
       "      <th>tweet_coord</th>\n",
       "      <th>tweet_created</th>\n",
       "      <th>tweet_location</th>\n",
       "      <th>user_timezone</th>\n",
       "    </tr>\n",
       "  </thead>\n",
       "  <tbody>\n",
       "    <tr>\n",
       "      <th>0</th>\n",
       "      <td>570306133677760513</td>\n",
       "      <td>neutral</td>\n",
       "      <td>1.0000</td>\n",
       "      <td>NaN</td>\n",
       "      <td>NaN</td>\n",
       "      <td>Virgin America</td>\n",
       "      <td>NaN</td>\n",
       "      <td>cairdin</td>\n",
       "      <td>NaN</td>\n",
       "      <td>0</td>\n",
       "      <td>@VirginAmerica What @dhepburn said.</td>\n",
       "      <td>NaN</td>\n",
       "      <td>2015-02-24 11:35:52 -0800</td>\n",
       "      <td>NaN</td>\n",
       "      <td>Eastern Time (US &amp; Canada)</td>\n",
       "    </tr>\n",
       "    <tr>\n",
       "      <th>1</th>\n",
       "      <td>570301130888122368</td>\n",
       "      <td>positive</td>\n",
       "      <td>0.3486</td>\n",
       "      <td>NaN</td>\n",
       "      <td>0.0000</td>\n",
       "      <td>Virgin America</td>\n",
       "      <td>NaN</td>\n",
       "      <td>jnardino</td>\n",
       "      <td>NaN</td>\n",
       "      <td>0</td>\n",
       "      <td>@VirginAmerica plus you've added commercials t...</td>\n",
       "      <td>NaN</td>\n",
       "      <td>2015-02-24 11:15:59 -0800</td>\n",
       "      <td>NaN</td>\n",
       "      <td>Pacific Time (US &amp; Canada)</td>\n",
       "    </tr>\n",
       "    <tr>\n",
       "      <th>2</th>\n",
       "      <td>570301083672813571</td>\n",
       "      <td>neutral</td>\n",
       "      <td>0.6837</td>\n",
       "      <td>NaN</td>\n",
       "      <td>NaN</td>\n",
       "      <td>Virgin America</td>\n",
       "      <td>NaN</td>\n",
       "      <td>yvonnalynn</td>\n",
       "      <td>NaN</td>\n",
       "      <td>0</td>\n",
       "      <td>@VirginAmerica I didn't today... Must mean I n...</td>\n",
       "      <td>NaN</td>\n",
       "      <td>2015-02-24 11:15:48 -0800</td>\n",
       "      <td>Lets Play</td>\n",
       "      <td>Central Time (US &amp; Canada)</td>\n",
       "    </tr>\n",
       "    <tr>\n",
       "      <th>3</th>\n",
       "      <td>570301031407624196</td>\n",
       "      <td>negative</td>\n",
       "      <td>1.0000</td>\n",
       "      <td>Bad Flight</td>\n",
       "      <td>0.7033</td>\n",
       "      <td>Virgin America</td>\n",
       "      <td>NaN</td>\n",
       "      <td>jnardino</td>\n",
       "      <td>NaN</td>\n",
       "      <td>0</td>\n",
       "      <td>@VirginAmerica it's really aggressive to blast...</td>\n",
       "      <td>NaN</td>\n",
       "      <td>2015-02-24 11:15:36 -0800</td>\n",
       "      <td>NaN</td>\n",
       "      <td>Pacific Time (US &amp; Canada)</td>\n",
       "    </tr>\n",
       "    <tr>\n",
       "      <th>4</th>\n",
       "      <td>570300817074462722</td>\n",
       "      <td>negative</td>\n",
       "      <td>1.0000</td>\n",
       "      <td>Can't Tell</td>\n",
       "      <td>1.0000</td>\n",
       "      <td>Virgin America</td>\n",
       "      <td>NaN</td>\n",
       "      <td>jnardino</td>\n",
       "      <td>NaN</td>\n",
       "      <td>0</td>\n",
       "      <td>@VirginAmerica and it's a really big bad thing...</td>\n",
       "      <td>NaN</td>\n",
       "      <td>2015-02-24 11:14:45 -0800</td>\n",
       "      <td>NaN</td>\n",
       "      <td>Pacific Time (US &amp; Canada)</td>\n",
       "    </tr>\n",
       "  </tbody>\n",
       "</table>\n",
       "</div>"
      ],
      "text/plain": [
       "             tweet_id airline_sentiment  airline_sentiment_confidence  \\\n",
       "0  570306133677760513           neutral                        1.0000   \n",
       "1  570301130888122368          positive                        0.3486   \n",
       "2  570301083672813571           neutral                        0.6837   \n",
       "3  570301031407624196          negative                        1.0000   \n",
       "4  570300817074462722          negative                        1.0000   \n",
       "\n",
       "  negativereason  negativereason_confidence         airline  \\\n",
       "0            NaN                        NaN  Virgin America   \n",
       "1            NaN                     0.0000  Virgin America   \n",
       "2            NaN                        NaN  Virgin America   \n",
       "3     Bad Flight                     0.7033  Virgin America   \n",
       "4     Can't Tell                     1.0000  Virgin America   \n",
       "\n",
       "  airline_sentiment_gold        name negativereason_gold  retweet_count  \\\n",
       "0                    NaN     cairdin                 NaN              0   \n",
       "1                    NaN    jnardino                 NaN              0   \n",
       "2                    NaN  yvonnalynn                 NaN              0   \n",
       "3                    NaN    jnardino                 NaN              0   \n",
       "4                    NaN    jnardino                 NaN              0   \n",
       "\n",
       "                                                text tweet_coord  \\\n",
       "0                @VirginAmerica What @dhepburn said.         NaN   \n",
       "1  @VirginAmerica plus you've added commercials t...         NaN   \n",
       "2  @VirginAmerica I didn't today... Must mean I n...         NaN   \n",
       "3  @VirginAmerica it's really aggressive to blast...         NaN   \n",
       "4  @VirginAmerica and it's a really big bad thing...         NaN   \n",
       "\n",
       "               tweet_created tweet_location               user_timezone  \n",
       "0  2015-02-24 11:35:52 -0800            NaN  Eastern Time (US & Canada)  \n",
       "1  2015-02-24 11:15:59 -0800            NaN  Pacific Time (US & Canada)  \n",
       "2  2015-02-24 11:15:48 -0800      Lets Play  Central Time (US & Canada)  \n",
       "3  2015-02-24 11:15:36 -0800            NaN  Pacific Time (US & Canada)  \n",
       "4  2015-02-24 11:14:45 -0800            NaN  Pacific Time (US & Canada)  "
      ]
     },
     "execution_count": 2,
     "metadata": {},
     "output_type": "execute_result"
    }
   ],
   "source": [
    "df =pd.read_csv(r'../input/twitter-airline-sentiment/Tweets.csv')\n",
    "df.head()"
   ]
  },
  {
   "cell_type": "code",
   "execution_count": 3,
   "id": "4af31338",
   "metadata": {
    "execution": {
     "iopub.execute_input": "2022-07-10T16:47:14.377836Z",
     "iopub.status.busy": "2022-07-10T16:47:14.376771Z",
     "iopub.status.idle": "2022-07-10T16:47:14.390473Z",
     "shell.execute_reply": "2022-07-10T16:47:14.392152Z",
     "shell.execute_reply.started": "2022-07-10T16:32:03.626732Z"
    },
    "papermill": {
     "duration": 0.062308,
     "end_time": "2022-07-10T16:47:14.392541",
     "exception": false,
     "start_time": "2022-07-10T16:47:14.330233",
     "status": "completed"
    },
    "tags": []
   },
   "outputs": [
    {
     "data": {
      "text/plain": [
       "array(['neutral', 'positive', 'negative'], dtype=object)"
      ]
     },
     "execution_count": 3,
     "metadata": {},
     "output_type": "execute_result"
    }
   ],
   "source": [
    "# Unique values of sentiment\n",
    "df['airline_sentiment'].unique()"
   ]
  },
  {
   "cell_type": "code",
   "execution_count": 4,
   "id": "73daf34b",
   "metadata": {
    "execution": {
     "iopub.execute_input": "2022-07-10T16:47:14.505165Z",
     "iopub.status.busy": "2022-07-10T16:47:14.502955Z",
     "iopub.status.idle": "2022-07-10T16:47:14.769648Z",
     "shell.execute_reply": "2022-07-10T16:47:14.769016Z",
     "shell.execute_reply.started": "2022-07-10T16:32:03.638807Z"
    },
    "papermill": {
     "duration": 0.328654,
     "end_time": "2022-07-10T16:47:14.769801",
     "exception": false,
     "start_time": "2022-07-10T16:47:14.441147",
     "status": "completed"
    },
    "tags": []
   },
   "outputs": [
    {
     "data": {
      "image/png": "[encoded data removed]",
      "text/plain": [
       "<Figure size 432x288 with 1 Axes>"
      ]
     },
     "metadata": {},
     "output_type": "display_data"
    }
   ],
   "source": [
    "# Unique values of sentiment plot\n",
    "\n",
    "ax = sns.countplot(x=\"airline_sentiment\", data=df)"
   ]
  },
  {
   "cell_type": "markdown",
   "id": "076faa13",
   "metadata": {
    "papermill": {
     "duration": 0.028866,
     "end_time": "2022-07-10T16:47:14.828294",
     "exception": false,
     "start_time": "2022-07-10T16:47:14.799428",
     "status": "completed"
    },
    "tags": []
   },
   "source": [
    "> Positive and neutral tweets are almost equal.\n",
    "\n",
    "> Negative tweets are more than double of neutral or positive sentiments."
   ]
  },
  {
   "cell_type": "code",
   "execution_count": 5,
   "id": "0edae99e",
   "metadata": {
    "execution": {
     "iopub.execute_input": "2022-07-10T16:47:14.903207Z",
     "iopub.status.busy": "2022-07-10T16:47:14.901919Z",
     "iopub.status.idle": "2022-07-10T16:47:15.194709Z",
     "shell.execute_reply": "2022-07-10T16:47:15.195706Z",
     "shell.execute_reply.started": "2022-07-10T16:32:03.822754Z"
    },
    "papermill": {
     "duration": 0.34141,
     "end_time": "2022-07-10T16:47:15.195940",
     "exception": false,
     "start_time": "2022-07-10T16:47:14.854530",
     "status": "completed"
    },
    "tags": []
   },
   "outputs": [
    {
     "data": {
      "image/png": "[encoded data removed]",
      "text/plain": [
       "<Figure size 720x720 with 1 Axes>"
      ]
     },
     "metadata": {},
     "output_type": "display_data"
    }
   ],
   "source": [
    "# Unique values of airline\n",
    "\n",
    "plt.figure(figsize=(10,10))\n",
    "ax = sns.countplot(x=\"airline\", data=df)"
   ]
  },
  {
   "cell_type": "markdown",
   "id": "ccf8071d",
   "metadata": {
    "papermill": {
     "duration": 0.029871,
     "end_time": "2022-07-10T16:47:15.259281",
     "exception": false,
     "start_time": "2022-07-10T16:47:15.229410",
     "status": "completed"
    },
    "tags": []
   },
   "source": [
    "> United has the most number of flights.\n",
    "\n",
    "> Virgin America has the least."
   ]
  },
  {
   "cell_type": "markdown",
   "id": "2762aeeb",
   "metadata": {
    "papermill": {
     "duration": 0.029568,
     "end_time": "2022-07-10T16:47:15.321455",
     "exception": false,
     "start_time": "2022-07-10T16:47:15.291887",
     "status": "completed"
    },
    "tags": []
   },
   "source": [
    "<div style=\"color:white;\n",
    "           display:fill;\n",
    "           border-radius:5px;\n",
    "           font-size:110%;\n",
    "           font-family:cursive;\n",
    "           letter-spacing:0.5px;\n",
    "           background-color:powderblue;\n",
    "           color:Black;\n",
    "           font-family:Arial\n",
    "           \">\n",
    "<h1 style=\"text-align:center;font-weight: bold\"> Utility Functions </h1>\n",
    "</div>\n"
   ]
  },
  {
   "cell_type": "code",
   "execution_count": 6,
   "id": "8c03dd89",
   "metadata": {
    "execution": {
     "iopub.execute_input": "2022-07-10T16:47:15.398007Z",
     "iopub.status.busy": "2022-07-10T16:47:15.395626Z",
     "iopub.status.idle": "2022-07-10T16:47:15.398799Z",
     "shell.execute_reply": "2022-07-10T16:47:15.399358Z",
     "shell.execute_reply.started": "2022-07-10T16:32:04.064421Z"
    },
    "papermill": {
     "duration": 0.050538,
     "end_time": "2022-07-10T16:47:15.399549",
     "exception": false,
     "start_time": "2022-07-10T16:47:15.349011",
     "status": "completed"
    },
    "tags": []
   },
   "outputs": [],
   "source": [
    "# I am tokenizing the tweet and also taking tokens from second index onwards \n",
    "#as initital to gives airline name and '@' and lowering them and later making it back a sentence\n",
    "\n",
    "def clean_the_tweet(text):\n",
    "  tokens= nltk.word_tokenize(re.sub(\"[^a-zA-Z]\", \" \",text))\n",
    "  tokens = [token.lower() for token in tokens]\n",
    "  return ' '.join(tokens[2:])\n",
    "\n",
    "def text_process(msg):\n",
    "  nopunc =[char for char in msg if char not in string.punctuation]\n",
    "  nopunc=''.join(nopunc)\n",
    "  return ' '.join([word for word in nopunc.split() if word.lower() not in stopwords.words('english')])\n",
    "\n",
    "def check_scores(clf,X_train, X_test, y_train, y_test):\n",
    "  model=clf.fit(X_train, y_train)\n",
    "  predicted_class=model.predict(X_test)\n",
    "  predicted_class_train=model.predict(X_train)\n",
    "  test_probs = model.predict_proba(X_test)\n",
    "  test_probs = test_probs[:, 1]\n",
    "  yhat = model.predict(X_test)\n",
    "  lr_precision, lr_recall, _ = precision_recall_curve(y_test, test_probs)\n",
    "  lr_f1, lr_auc = f1_score(y_test, yhat), auc(lr_recall, lr_precision)\n",
    "\n",
    "\n",
    "  print('Train confusion matrix is: ',)\n",
    "  print(confusion_matrix(y_train, predicted_class_train))\n",
    "\n",
    "  print()\n",
    "  print('Test confusion matrix is: ')\n",
    "  print(confusion_matrix(y_test, predicted_class))\n",
    "  print()\n",
    "  print(classification_report(y_test,predicted_class)) \n",
    "  print() \n",
    "  train_accuracy = accuracy_score(y_train,predicted_class_train)\n",
    "  test_accuracy = accuracy_score(y_test,predicted_class)\n",
    "\n",
    "  print(\"Train accuracy score: \", train_accuracy)\n",
    "  print(\"Test accuracy score: \",test_accuracy )\n",
    "  print()\n",
    "\n",
    "  fig, (ax1) = plt.subplots(1, 1)\n",
    "\n",
    "  ax1.plot(lr_recall, lr_precision)\n",
    "  ax1.set(xlabel=\"Recall\", ylabel=\"Precision\")\n",
    "\n",
    "  plt.subplots_adjust(left=0.5,\n",
    "                    bottom=0.1, \n",
    "                    right=1.5, \n",
    "                    top=0.9, \n",
    "                    wspace=0.4, \n",
    "                    hspace=0.4)\n",
    "  print()\n",
    "  return train_accuracy, test_accuracy"
   ]
  },
  {
   "cell_type": "markdown",
   "id": "500be39c",
   "metadata": {
    "papermill": {
     "duration": 0.025809,
     "end_time": "2022-07-10T16:47:15.453045",
     "exception": false,
     "start_time": "2022-07-10T16:47:15.427236",
     "status": "completed"
    },
    "tags": []
   },
   "source": [
    "<div style=\"color:white;\n",
    "           display:fill;\n",
    "           border-radius:5px;\n",
    "           font-size:110%;\n",
    "           font-family:cursive;\n",
    "           letter-spacing:0.5px;\n",
    "           background-color:powderblue;\n",
    "           color:Black;\n",
    "           font-family:Arial\n",
    "           \">\n",
    "<h1 style=\"text-align:center;font-weight: bold\"> Text Preparation </h1>\n",
    "</div>\n"
   ]
  },
  {
   "cell_type": "code",
   "execution_count": 7,
   "id": "7d6c9f06",
   "metadata": {
    "execution": {
     "iopub.execute_input": "2022-07-10T16:47:15.520562Z",
     "iopub.status.busy": "2022-07-10T16:47:15.519710Z",
     "iopub.status.idle": "2022-07-10T16:47:18.437770Z",
     "shell.execute_reply": "2022-07-10T16:47:18.437138Z",
     "shell.execute_reply.started": "2022-07-10T16:32:04.081072Z"
    },
    "papermill": {
     "duration": 2.955134,
     "end_time": "2022-07-10T16:47:18.437906",
     "exception": false,
     "start_time": "2022-07-10T16:47:15.482772",
     "status": "completed"
    },
    "tags": []
   },
   "outputs": [
    {
     "data": {
      "text/html": [
       "<div>\n",
       "<style scoped>\n",
       "    .dataframe tbody tr th:only-of-type {\n",
       "        vertical-align: middle;\n",
       "    }\n",
       "\n",
       "    .dataframe tbody tr th {\n",
       "        vertical-align: top;\n",
       "    }\n",
       "\n",
       "    .dataframe thead th {\n",
       "        text-align: right;\n",
       "    }\n",
       "</style>\n",
       "<table border=\"1\" class=\"dataframe\">\n",
       "  <thead>\n",
       "    <tr style=\"text-align: right;\">\n",
       "      <th></th>\n",
       "      <th>tweet_id</th>\n",
       "      <th>airline_sentiment</th>\n",
       "      <th>airline_sentiment_confidence</th>\n",
       "      <th>negativereason</th>\n",
       "      <th>negativereason_confidence</th>\n",
       "      <th>airline</th>\n",
       "      <th>airline_sentiment_gold</th>\n",
       "      <th>name</th>\n",
       "      <th>negativereason_gold</th>\n",
       "      <th>retweet_count</th>\n",
       "      <th>text</th>\n",
       "      <th>tweet_coord</th>\n",
       "      <th>tweet_created</th>\n",
       "      <th>tweet_location</th>\n",
       "      <th>user_timezone</th>\n",
       "      <th>cleaned_tweet</th>\n",
       "    </tr>\n",
       "  </thead>\n",
       "  <tbody>\n",
       "    <tr>\n",
       "      <th>1</th>\n",
       "      <td>570301130888122368</td>\n",
       "      <td>positive</td>\n",
       "      <td>0.3486</td>\n",
       "      <td>NaN</td>\n",
       "      <td>0.0000</td>\n",
       "      <td>Virgin America</td>\n",
       "      <td>NaN</td>\n",
       "      <td>jnardino</td>\n",
       "      <td>NaN</td>\n",
       "      <td>0</td>\n",
       "      <td>@VirginAmerica plus you've added commercials t...</td>\n",
       "      <td>NaN</td>\n",
       "      <td>2015-02-24 11:15:59 -0800</td>\n",
       "      <td>NaN</td>\n",
       "      <td>Pacific Time (US &amp; Canada)</td>\n",
       "      <td>you ve added commercials to the experience tacky</td>\n",
       "    </tr>\n",
       "    <tr>\n",
       "      <th>3</th>\n",
       "      <td>570301031407624196</td>\n",
       "      <td>negative</td>\n",
       "      <td>1.0000</td>\n",
       "      <td>Bad Flight</td>\n",
       "      <td>0.7033</td>\n",
       "      <td>Virgin America</td>\n",
       "      <td>NaN</td>\n",
       "      <td>jnardino</td>\n",
       "      <td>NaN</td>\n",
       "      <td>0</td>\n",
       "      <td>@VirginAmerica it's really aggressive to blast...</td>\n",
       "      <td>NaN</td>\n",
       "      <td>2015-02-24 11:15:36 -0800</td>\n",
       "      <td>NaN</td>\n",
       "      <td>Pacific Time (US &amp; Canada)</td>\n",
       "      <td>s really aggressive to blast obnoxious enterta...</td>\n",
       "    </tr>\n",
       "    <tr>\n",
       "      <th>4</th>\n",
       "      <td>570300817074462722</td>\n",
       "      <td>negative</td>\n",
       "      <td>1.0000</td>\n",
       "      <td>Can't Tell</td>\n",
       "      <td>1.0000</td>\n",
       "      <td>Virgin America</td>\n",
       "      <td>NaN</td>\n",
       "      <td>jnardino</td>\n",
       "      <td>NaN</td>\n",
       "      <td>0</td>\n",
       "      <td>@VirginAmerica and it's a really big bad thing...</td>\n",
       "      <td>NaN</td>\n",
       "      <td>2015-02-24 11:14:45 -0800</td>\n",
       "      <td>NaN</td>\n",
       "      <td>Pacific Time (US &amp; Canada)</td>\n",
       "      <td>it s a really big bad thing about it</td>\n",
       "    </tr>\n",
       "    <tr>\n",
       "      <th>5</th>\n",
       "      <td>570300767074181121</td>\n",
       "      <td>negative</td>\n",
       "      <td>1.0000</td>\n",
       "      <td>Can't Tell</td>\n",
       "      <td>0.6842</td>\n",
       "      <td>Virgin America</td>\n",
       "      <td>NaN</td>\n",
       "      <td>jnardino</td>\n",
       "      <td>NaN</td>\n",
       "      <td>0</td>\n",
       "      <td>@VirginAmerica seriously would pay $30 a fligh...</td>\n",
       "      <td>NaN</td>\n",
       "      <td>2015-02-24 11:14:33 -0800</td>\n",
       "      <td>NaN</td>\n",
       "      <td>Pacific Time (US &amp; Canada)</td>\n",
       "      <td>would pay a flight for seats that didn t have ...</td>\n",
       "    </tr>\n",
       "    <tr>\n",
       "      <th>6</th>\n",
       "      <td>570300616901320704</td>\n",
       "      <td>positive</td>\n",
       "      <td>0.6745</td>\n",
       "      <td>NaN</td>\n",
       "      <td>0.0000</td>\n",
       "      <td>Virgin America</td>\n",
       "      <td>NaN</td>\n",
       "      <td>cjmcginnis</td>\n",
       "      <td>NaN</td>\n",
       "      <td>0</td>\n",
       "      <td>@VirginAmerica yes, nearly every time I fly VX...</td>\n",
       "      <td>NaN</td>\n",
       "      <td>2015-02-24 11:13:57 -0800</td>\n",
       "      <td>San Francisco CA</td>\n",
       "      <td>Pacific Time (US &amp; Canada)</td>\n",
       "      <td>nearly every time i fly vx this ear worm won t...</td>\n",
       "    </tr>\n",
       "  </tbody>\n",
       "</table>\n",
       "</div>"
      ],
      "text/plain": [
       "             tweet_id airline_sentiment  airline_sentiment_confidence  \\\n",
       "1  570301130888122368          positive                        0.3486   \n",
       "3  570301031407624196          negative                        1.0000   \n",
       "4  570300817074462722          negative                        1.0000   \n",
       "5  570300767074181121          negative                        1.0000   \n",
       "6  570300616901320704          positive                        0.6745   \n",
       "\n",
       "  negativereason  negativereason_confidence         airline  \\\n",
       "1            NaN                     0.0000  Virgin America   \n",
       "3     Bad Flight                     0.7033  Virgin America   \n",
       "4     Can't Tell                     1.0000  Virgin America   \n",
       "5     Can't Tell                     0.6842  Virgin America   \n",
       "6            NaN                     0.0000  Virgin America   \n",
       "\n",
       "  airline_sentiment_gold        name negativereason_gold  retweet_count  \\\n",
       "1                    NaN    jnardino                 NaN              0   \n",
       "3                    NaN    jnardino                 NaN              0   \n",
       "4                    NaN    jnardino                 NaN              0   \n",
       "5                    NaN    jnardino                 NaN              0   \n",
       "6                    NaN  cjmcginnis                 NaN              0   \n",
       "\n",
       "                                                text tweet_coord  \\\n",
       "1  @VirginAmerica plus you've added commercials t...         NaN   \n",
       "3  @VirginAmerica it's really aggressive to blast...         NaN   \n",
       "4  @VirginAmerica and it's a really big bad thing...         NaN   \n",
       "5  @VirginAmerica seriously would pay $30 a fligh...         NaN   \n",
       "6  @VirginAmerica yes, nearly every time I fly VX...         NaN   \n",
       "\n",
       "               tweet_created    tweet_location               user_timezone  \\\n",
       "1  2015-02-24 11:15:59 -0800               NaN  Pacific Time (US & Canada)   \n",
       "3  2015-02-24 11:15:36 -0800               NaN  Pacific Time (US & Canada)   \n",
       "4  2015-02-24 11:14:45 -0800               NaN  Pacific Time (US & Canada)   \n",
       "5  2015-02-24 11:14:33 -0800               NaN  Pacific Time (US & Canada)   \n",
       "6  2015-02-24 11:13:57 -0800  San Francisco CA  Pacific Time (US & Canada)   \n",
       "\n",
       "                                       cleaned_tweet  \n",
       "1   you ve added commercials to the experience tacky  \n",
       "3  s really aggressive to blast obnoxious enterta...  \n",
       "4               it s a really big bad thing about it  \n",
       "5  would pay a flight for seats that didn t have ...  \n",
       "6  nearly every time i fly vx this ear worm won t...  "
      ]
     },
     "execution_count": 7,
     "metadata": {},
     "output_type": "execute_result"
    }
   ],
   "source": [
    "# removing neutral tweets\n",
    "\n",
    "df = df[df['airline_sentiment']!='neutral']\n",
    "df['cleaned_tweet'] = df['text'].apply(clean_the_tweet)\n",
    "\n",
    "df.head()"
   ]
  },
  {
   "cell_type": "code",
   "execution_count": 8,
   "id": "8698ffa2",
   "metadata": {
    "execution": {
     "iopub.execute_input": "2022-07-10T16:47:18.524740Z",
     "iopub.status.busy": "2022-07-10T16:47:18.496148Z",
     "iopub.status.idle": "2022-07-10T16:47:18.527990Z",
     "shell.execute_reply": "2022-07-10T16:47:18.528449Z",
     "shell.execute_reply.started": "2022-07-10T16:32:06.789055Z"
    },
    "papermill": {
     "duration": 0.064845,
     "end_time": "2022-07-10T16:47:18.528602",
     "exception": false,
     "start_time": "2022-07-10T16:47:18.463757",
     "status": "completed"
    },
    "tags": []
   },
   "outputs": [
    {
     "data": {
      "text/html": [
       "<div>\n",
       "<style scoped>\n",
       "    .dataframe tbody tr th:only-of-type {\n",
       "        vertical-align: middle;\n",
       "    }\n",
       "\n",
       "    .dataframe tbody tr th {\n",
       "        vertical-align: top;\n",
       "    }\n",
       "\n",
       "    .dataframe thead th {\n",
       "        text-align: right;\n",
       "    }\n",
       "</style>\n",
       "<table border=\"1\" class=\"dataframe\">\n",
       "  <thead>\n",
       "    <tr style=\"text-align: right;\">\n",
       "      <th></th>\n",
       "      <th>tweet_id</th>\n",
       "      <th>airline_sentiment</th>\n",
       "      <th>airline_sentiment_confidence</th>\n",
       "      <th>negativereason</th>\n",
       "      <th>negativereason_confidence</th>\n",
       "      <th>airline</th>\n",
       "      <th>airline_sentiment_gold</th>\n",
       "      <th>name</th>\n",
       "      <th>negativereason_gold</th>\n",
       "      <th>retweet_count</th>\n",
       "      <th>text</th>\n",
       "      <th>tweet_coord</th>\n",
       "      <th>tweet_created</th>\n",
       "      <th>tweet_location</th>\n",
       "      <th>user_timezone</th>\n",
       "      <th>cleaned_tweet</th>\n",
       "    </tr>\n",
       "  </thead>\n",
       "  <tbody>\n",
       "    <tr>\n",
       "      <th>1</th>\n",
       "      <td>570301130888122368</td>\n",
       "      <td>1</td>\n",
       "      <td>0.3486</td>\n",
       "      <td>NaN</td>\n",
       "      <td>0.0000</td>\n",
       "      <td>Virgin America</td>\n",
       "      <td>NaN</td>\n",
       "      <td>jnardino</td>\n",
       "      <td>NaN</td>\n",
       "      <td>0</td>\n",
       "      <td>@VirginAmerica plus you've added commercials t...</td>\n",
       "      <td>NaN</td>\n",
       "      <td>2015-02-24 11:15:59 -0800</td>\n",
       "      <td>NaN</td>\n",
       "      <td>Pacific Time (US &amp; Canada)</td>\n",
       "      <td>you ve added commercials to the experience tacky</td>\n",
       "    </tr>\n",
       "    <tr>\n",
       "      <th>3</th>\n",
       "      <td>570301031407624196</td>\n",
       "      <td>0</td>\n",
       "      <td>1.0000</td>\n",
       "      <td>Bad Flight</td>\n",
       "      <td>0.7033</td>\n",
       "      <td>Virgin America</td>\n",
       "      <td>NaN</td>\n",
       "      <td>jnardino</td>\n",
       "      <td>NaN</td>\n",
       "      <td>0</td>\n",
       "      <td>@VirginAmerica it's really aggressive to blast...</td>\n",
       "      <td>NaN</td>\n",
       "      <td>2015-02-24 11:15:36 -0800</td>\n",
       "      <td>NaN</td>\n",
       "      <td>Pacific Time (US &amp; Canada)</td>\n",
       "      <td>s really aggressive to blast obnoxious enterta...</td>\n",
       "    </tr>\n",
       "    <tr>\n",
       "      <th>4</th>\n",
       "      <td>570300817074462722</td>\n",
       "      <td>0</td>\n",
       "      <td>1.0000</td>\n",
       "      <td>Can't Tell</td>\n",
       "      <td>1.0000</td>\n",
       "      <td>Virgin America</td>\n",
       "      <td>NaN</td>\n",
       "      <td>jnardino</td>\n",
       "      <td>NaN</td>\n",
       "      <td>0</td>\n",
       "      <td>@VirginAmerica and it's a really big bad thing...</td>\n",
       "      <td>NaN</td>\n",
       "      <td>2015-02-24 11:14:45 -0800</td>\n",
       "      <td>NaN</td>\n",
       "      <td>Pacific Time (US &amp; Canada)</td>\n",
       "      <td>it s a really big bad thing about it</td>\n",
       "    </tr>\n",
       "    <tr>\n",
       "      <th>5</th>\n",
       "      <td>570300767074181121</td>\n",
       "      <td>0</td>\n",
       "      <td>1.0000</td>\n",
       "      <td>Can't Tell</td>\n",
       "      <td>0.6842</td>\n",
       "      <td>Virgin America</td>\n",
       "      <td>NaN</td>\n",
       "      <td>jnardino</td>\n",
       "      <td>NaN</td>\n",
       "      <td>0</td>\n",
       "      <td>@VirginAmerica seriously would pay $30 a fligh...</td>\n",
       "      <td>NaN</td>\n",
       "      <td>2015-02-24 11:14:33 -0800</td>\n",
       "      <td>NaN</td>\n",
       "      <td>Pacific Time (US &amp; Canada)</td>\n",
       "      <td>would pay a flight for seats that didn t have ...</td>\n",
       "    </tr>\n",
       "    <tr>\n",
       "      <th>6</th>\n",
       "      <td>570300616901320704</td>\n",
       "      <td>1</td>\n",
       "      <td>0.6745</td>\n",
       "      <td>NaN</td>\n",
       "      <td>0.0000</td>\n",
       "      <td>Virgin America</td>\n",
       "      <td>NaN</td>\n",
       "      <td>cjmcginnis</td>\n",
       "      <td>NaN</td>\n",
       "      <td>0</td>\n",
       "      <td>@VirginAmerica yes, nearly every time I fly VX...</td>\n",
       "      <td>NaN</td>\n",
       "      <td>2015-02-24 11:13:57 -0800</td>\n",
       "      <td>San Francisco CA</td>\n",
       "      <td>Pacific Time (US &amp; Canada)</td>\n",
       "      <td>nearly every time i fly vx this ear worm won t...</td>\n",
       "    </tr>\n",
       "  </tbody>\n",
       "</table>\n",
       "</div>"
      ],
      "text/plain": [
       "             tweet_id  airline_sentiment  airline_sentiment_confidence  \\\n",
       "1  570301130888122368                  1                        0.3486   \n",
       "3  570301031407624196                  0                        1.0000   \n",
       "4  570300817074462722                  0                        1.0000   \n",
       "5  570300767074181121                  0                        1.0000   \n",
       "6  570300616901320704                  1                        0.6745   \n",
       "\n",
       "  negativereason  negativereason_confidence         airline  \\\n",
       "1            NaN                     0.0000  Virgin America   \n",
       "3     Bad Flight                     0.7033  Virgin America   \n",
       "4     Can't Tell                     1.0000  Virgin America   \n",
       "5     Can't Tell                     0.6842  Virgin America   \n",
       "6            NaN                     0.0000  Virgin America   \n",
       "\n",
       "  airline_sentiment_gold        name negativereason_gold  retweet_count  \\\n",
       "1                    NaN    jnardino                 NaN              0   \n",
       "3                    NaN    jnardino                 NaN              0   \n",
       "4                    NaN    jnardino                 NaN              0   \n",
       "5                    NaN    jnardino                 NaN              0   \n",
       "6                    NaN  cjmcginnis                 NaN              0   \n",
       "\n",
       "                                                text tweet_coord  \\\n",
       "1  @VirginAmerica plus you've added commercials t...         NaN   \n",
       "3  @VirginAmerica it's really aggressive to blast...         NaN   \n",
       "4  @VirginAmerica and it's a really big bad thing...         NaN   \n",
       "5  @VirginAmerica seriously would pay $30 a fligh...         NaN   \n",
       "6  @VirginAmerica yes, nearly every time I fly VX...         NaN   \n",
       "\n",
       "               tweet_created    tweet_location               user_timezone  \\\n",
       "1  2015-02-24 11:15:59 -0800               NaN  Pacific Time (US & Canada)   \n",
       "3  2015-02-24 11:15:36 -0800               NaN  Pacific Time (US & Canada)   \n",
       "4  2015-02-24 11:14:45 -0800               NaN  Pacific Time (US & Canada)   \n",
       "5  2015-02-24 11:14:33 -0800               NaN  Pacific Time (US & Canada)   \n",
       "6  2015-02-24 11:13:57 -0800  San Francisco CA  Pacific Time (US & Canada)   \n",
       "\n",
       "                                       cleaned_tweet  \n",
       "1   you ve added commercials to the experience tacky  \n",
       "3  s really aggressive to blast obnoxious enterta...  \n",
       "4               it s a really big bad thing about it  \n",
       "5  would pay a flight for seats that didn t have ...  \n",
       "6  nearly every time i fly vx this ear worm won t...  "
      ]
     },
     "execution_count": 8,
     "metadata": {},
     "output_type": "execute_result"
    }
   ],
   "source": [
    "df['airline_sentiment'] = df['airline_sentiment'].apply(lambda x: 1 if x =='positive' else 0)\n",
    "df.head()"
   ]
  },
  {
   "cell_type": "code",
   "execution_count": 9,
   "id": "74f4e213",
   "metadata": {
    "execution": {
     "iopub.execute_input": "2022-07-10T16:47:18.585743Z",
     "iopub.status.busy": "2022-07-10T16:47:18.584743Z",
     "iopub.status.idle": "2022-07-10T16:47:43.567405Z",
     "shell.execute_reply": "2022-07-10T16:47:43.566817Z",
     "shell.execute_reply.started": "2022-07-10T16:32:06.834203Z"
    },
    "papermill": {
     "duration": 25.014202,
     "end_time": "2022-07-10T16:47:43.567582",
     "exception": false,
     "start_time": "2022-07-10T16:47:18.553380",
     "status": "completed"
    },
    "tags": []
   },
   "outputs": [
    {
     "data": {
      "text/html": [
       "<div>\n",
       "<style scoped>\n",
       "    .dataframe tbody tr th:only-of-type {\n",
       "        vertical-align: middle;\n",
       "    }\n",
       "\n",
       "    .dataframe tbody tr th {\n",
       "        vertical-align: top;\n",
       "    }\n",
       "\n",
       "    .dataframe thead th {\n",
       "        text-align: right;\n",
       "    }\n",
       "</style>\n",
       "<table border=\"1\" class=\"dataframe\">\n",
       "  <thead>\n",
       "    <tr style=\"text-align: right;\">\n",
       "      <th></th>\n",
       "      <th>tweet_id</th>\n",
       "      <th>airline_sentiment</th>\n",
       "      <th>airline_sentiment_confidence</th>\n",
       "      <th>negativereason</th>\n",
       "      <th>negativereason_confidence</th>\n",
       "      <th>airline</th>\n",
       "      <th>airline_sentiment_gold</th>\n",
       "      <th>name</th>\n",
       "      <th>negativereason_gold</th>\n",
       "      <th>retweet_count</th>\n",
       "      <th>text</th>\n",
       "      <th>tweet_coord</th>\n",
       "      <th>tweet_created</th>\n",
       "      <th>tweet_location</th>\n",
       "      <th>user_timezone</th>\n",
       "      <th>cleaned_tweet</th>\n",
       "    </tr>\n",
       "  </thead>\n",
       "  <tbody>\n",
       "    <tr>\n",
       "      <th>0</th>\n",
       "      <td>570301130888122368</td>\n",
       "      <td>1</td>\n",
       "      <td>0.3486</td>\n",
       "      <td>NaN</td>\n",
       "      <td>0.0000</td>\n",
       "      <td>Virgin America</td>\n",
       "      <td>NaN</td>\n",
       "      <td>jnardino</td>\n",
       "      <td>NaN</td>\n",
       "      <td>0</td>\n",
       "      <td>@VirginAmerica plus you've added commercials t...</td>\n",
       "      <td>NaN</td>\n",
       "      <td>2015-02-24 11:15:59 -0800</td>\n",
       "      <td>NaN</td>\n",
       "      <td>Pacific Time (US &amp; Canada)</td>\n",
       "      <td>added commercials experience tacky</td>\n",
       "    </tr>\n",
       "    <tr>\n",
       "      <th>1</th>\n",
       "      <td>570301031407624196</td>\n",
       "      <td>0</td>\n",
       "      <td>1.0000</td>\n",
       "      <td>Bad Flight</td>\n",
       "      <td>0.7033</td>\n",
       "      <td>Virgin America</td>\n",
       "      <td>NaN</td>\n",
       "      <td>jnardino</td>\n",
       "      <td>NaN</td>\n",
       "      <td>0</td>\n",
       "      <td>@VirginAmerica it's really aggressive to blast...</td>\n",
       "      <td>NaN</td>\n",
       "      <td>2015-02-24 11:15:36 -0800</td>\n",
       "      <td>NaN</td>\n",
       "      <td>Pacific Time (US &amp; Canada)</td>\n",
       "      <td>really aggressive blast obnoxious entertainmen...</td>\n",
       "    </tr>\n",
       "    <tr>\n",
       "      <th>2</th>\n",
       "      <td>570300817074462722</td>\n",
       "      <td>0</td>\n",
       "      <td>1.0000</td>\n",
       "      <td>Can't Tell</td>\n",
       "      <td>1.0000</td>\n",
       "      <td>Virgin America</td>\n",
       "      <td>NaN</td>\n",
       "      <td>jnardino</td>\n",
       "      <td>NaN</td>\n",
       "      <td>0</td>\n",
       "      <td>@VirginAmerica and it's a really big bad thing...</td>\n",
       "      <td>NaN</td>\n",
       "      <td>2015-02-24 11:14:45 -0800</td>\n",
       "      <td>NaN</td>\n",
       "      <td>Pacific Time (US &amp; Canada)</td>\n",
       "      <td>really big bad thing</td>\n",
       "    </tr>\n",
       "    <tr>\n",
       "      <th>3</th>\n",
       "      <td>570300767074181121</td>\n",
       "      <td>0</td>\n",
       "      <td>1.0000</td>\n",
       "      <td>Can't Tell</td>\n",
       "      <td>0.6842</td>\n",
       "      <td>Virgin America</td>\n",
       "      <td>NaN</td>\n",
       "      <td>jnardino</td>\n",
       "      <td>NaN</td>\n",
       "      <td>0</td>\n",
       "      <td>@VirginAmerica seriously would pay $30 a fligh...</td>\n",
       "      <td>NaN</td>\n",
       "      <td>2015-02-24 11:14:33 -0800</td>\n",
       "      <td>NaN</td>\n",
       "      <td>Pacific Time (US &amp; Canada)</td>\n",
       "      <td>would pay flight seats playing really bad thin...</td>\n",
       "    </tr>\n",
       "    <tr>\n",
       "      <th>4</th>\n",
       "      <td>570300616901320704</td>\n",
       "      <td>1</td>\n",
       "      <td>0.6745</td>\n",
       "      <td>NaN</td>\n",
       "      <td>0.0000</td>\n",
       "      <td>Virgin America</td>\n",
       "      <td>NaN</td>\n",
       "      <td>cjmcginnis</td>\n",
       "      <td>NaN</td>\n",
       "      <td>0</td>\n",
       "      <td>@VirginAmerica yes, nearly every time I fly VX...</td>\n",
       "      <td>NaN</td>\n",
       "      <td>2015-02-24 11:13:57 -0800</td>\n",
       "      <td>San Francisco CA</td>\n",
       "      <td>Pacific Time (US &amp; Canada)</td>\n",
       "      <td>nearly every time fly vx ear worm go away</td>\n",
       "    </tr>\n",
       "  </tbody>\n",
       "</table>\n",
       "</div>"
      ],
      "text/plain": [
       "             tweet_id  airline_sentiment  airline_sentiment_confidence  \\\n",
       "0  570301130888122368                  1                        0.3486   \n",
       "1  570301031407624196                  0                        1.0000   \n",
       "2  570300817074462722                  0                        1.0000   \n",
       "3  570300767074181121                  0                        1.0000   \n",
       "4  570300616901320704                  1                        0.6745   \n",
       "\n",
       "  negativereason  negativereason_confidence         airline  \\\n",
       "0            NaN                     0.0000  Virgin America   \n",
       "1     Bad Flight                     0.7033  Virgin America   \n",
       "2     Can't Tell                     1.0000  Virgin America   \n",
       "3     Can't Tell                     0.6842  Virgin America   \n",
       "4            NaN                     0.0000  Virgin America   \n",
       "\n",
       "  airline_sentiment_gold        name negativereason_gold  retweet_count  \\\n",
       "0                    NaN    jnardino                 NaN              0   \n",
       "1                    NaN    jnardino                 NaN              0   \n",
       "2                    NaN    jnardino                 NaN              0   \n",
       "3                    NaN    jnardino                 NaN              0   \n",
       "4                    NaN  cjmcginnis                 NaN              0   \n",
       "\n",
       "                                                text tweet_coord  \\\n",
       "0  @VirginAmerica plus you've added commercials t...         NaN   \n",
       "1  @VirginAmerica it's really aggressive to blast...         NaN   \n",
       "2  @VirginAmerica and it's a really big bad thing...         NaN   \n",
       "3  @VirginAmerica seriously would pay $30 a fligh...         NaN   \n",
       "4  @VirginAmerica yes, nearly every time I fly VX...         NaN   \n",
       "\n",
       "               tweet_created    tweet_location               user_timezone  \\\n",
       "0  2015-02-24 11:15:59 -0800               NaN  Pacific Time (US & Canada)   \n",
       "1  2015-02-24 11:15:36 -0800               NaN  Pacific Time (US & Canada)   \n",
       "2  2015-02-24 11:14:45 -0800               NaN  Pacific Time (US & Canada)   \n",
       "3  2015-02-24 11:14:33 -0800               NaN  Pacific Time (US & Canada)   \n",
       "4  2015-02-24 11:13:57 -0800  San Francisco CA  Pacific Time (US & Canada)   \n",
       "\n",
       "                                       cleaned_tweet  \n",
       "0                 added commercials experience tacky  \n",
       "1  really aggressive blast obnoxious entertainmen...  \n",
       "2                               really big bad thing  \n",
       "3  would pay flight seats playing really bad thin...  \n",
       "4          nearly every time fly vx ear worm go away  "
      ]
     },
     "execution_count": 9,
     "metadata": {},
     "output_type": "execute_result"
    }
   ],
   "source": [
    "# Cleaning the tweets, removing punctuation marks\n",
    "df['cleaned_tweet'] = df['cleaned_tweet'].apply(text_process)\n",
    "df.reset_index(drop=True, inplace = True)\n",
    "df.head()"
   ]
  },
  {
   "cell_type": "code",
   "execution_count": 10,
   "id": "6a50af88",
   "metadata": {
    "execution": {
     "iopub.execute_input": "2022-07-10T16:47:43.631825Z",
     "iopub.status.busy": "2022-07-10T16:47:43.631026Z",
     "iopub.status.idle": "2022-07-10T16:47:43.633752Z",
     "shell.execute_reply": "2022-07-10T16:47:43.634150Z",
     "shell.execute_reply.started": "2022-07-10T16:32:29.534934Z"
    },
    "papermill": {
     "duration": 0.034866,
     "end_time": "2022-07-10T16:47:43.634278",
     "exception": false,
     "start_time": "2022-07-10T16:47:43.599412",
     "status": "completed"
    },
    "tags": []
   },
   "outputs": [
    {
     "data": {
      "text/plain": [
       "array([1, 0])"
      ]
     },
     "execution_count": 10,
     "metadata": {},
     "output_type": "execute_result"
    }
   ],
   "source": [
    "df['airline_sentiment'].unique()"
   ]
  },
  {
   "cell_type": "markdown",
   "id": "64f8be22",
   "metadata": {
    "papermill": {
     "duration": 0.028883,
     "end_time": "2022-07-10T16:47:43.688818",
     "exception": false,
     "start_time": "2022-07-10T16:47:43.659935",
     "status": "completed"
    },
    "tags": []
   },
   "source": [
    "<div style=\"color:white;\n",
    "           display:fill;\n",
    "           border-radius:5px;\n",
    "           font-size:110%;\n",
    "           font-family:cursive;\n",
    "           letter-spacing:0.5px;\n",
    "           background-color:powderblue;\n",
    "           color:Black;\n",
    "           font-family:Arial\n",
    "           \">\n",
    "<h1 style=\"text-align:center;font-weight: bold\"> Creating tokens for tweets </h1>\n",
    "</div>\n"
   ]
  },
  {
   "cell_type": "code",
   "execution_count": 11,
   "id": "61103be9",
   "metadata": {
    "execution": {
     "iopub.execute_input": "2022-07-10T16:47:43.804695Z",
     "iopub.status.busy": "2022-07-10T16:47:43.768620Z",
     "iopub.status.idle": "2022-07-10T16:47:43.943581Z",
     "shell.execute_reply": "2022-07-10T16:47:43.942624Z",
     "shell.execute_reply.started": "2022-07-10T16:32:29.544650Z"
    },
    "papermill": {
     "duration": 0.229044,
     "end_time": "2022-07-10T16:47:43.943727",
     "exception": false,
     "start_time": "2022-07-10T16:47:43.714683",
     "status": "completed"
    },
    "tags": []
   },
   "outputs": [],
   "source": [
    "# Creating object of TF-IDF vectorizer\n",
    "vectorizer = TfidfVectorizer(use_idf=True, lowercase=True)\n",
    "X_tf_idf= vectorizer.fit_transform(df.cleaned_tweet)"
   ]
  },
  {
   "cell_type": "markdown",
   "id": "c173e54b",
   "metadata": {
    "papermill": {
     "duration": 0.028436,
     "end_time": "2022-07-10T16:47:44.000150",
     "exception": false,
     "start_time": "2022-07-10T16:47:43.971714",
     "status": "completed"
    },
    "tags": []
   },
   "source": [
    "<div style=\"color:white;\n",
    "           display:fill;\n",
    "           border-radius:5px;\n",
    "           font-size:110%;\n",
    "           font-family:cursive;\n",
    "           letter-spacing:0.5px;\n",
    "           background-color:powderblue;\n",
    "           color:Black;\n",
    "           font-family:Arial\n",
    "           \">\n",
    "<h1 style=\"text-align:center;font-weight: bold\"> Base SVM model </h1>\n",
    "</div>\n"
   ]
  },
  {
   "cell_type": "code",
   "execution_count": 12,
   "id": "e98fbc65",
   "metadata": {
    "execution": {
     "iopub.execute_input": "2022-07-10T16:47:44.059947Z",
     "iopub.status.busy": "2022-07-10T16:47:44.058952Z",
     "iopub.status.idle": "2022-07-10T16:47:44.064784Z",
     "shell.execute_reply": "2022-07-10T16:47:44.065322Z",
     "shell.execute_reply.started": "2022-07-10T16:32:29.725776Z"
    },
    "papermill": {
     "duration": 0.039003,
     "end_time": "2022-07-10T16:47:44.065519",
     "exception": false,
     "start_time": "2022-07-10T16:47:44.026516",
     "status": "completed"
    },
    "tags": []
   },
   "outputs": [],
   "source": [
    "x_train, x_test, y_train, y_test = train_test_split(X_tf_idf, df['airline_sentiment'], random_state=42)"
   ]
  },
  {
   "cell_type": "code",
   "execution_count": 13,
   "id": "5221a5e9",
   "metadata": {
    "execution": {
     "iopub.execute_input": "2022-07-10T16:47:44.126981Z",
     "iopub.status.busy": "2022-07-10T16:47:44.126178Z",
     "iopub.status.idle": "2022-07-10T16:48:25.858958Z",
     "shell.execute_reply": "2022-07-10T16:48:25.859756Z",
     "shell.execute_reply.started": "2022-07-10T16:32:29.736320Z"
    },
    "papermill": {
     "duration": 41.764988,
     "end_time": "2022-07-10T16:48:25.859957",
     "exception": false,
     "start_time": "2022-07-10T16:47:44.094969",
     "status": "completed"
    },
    "tags": []
   },
   "outputs": [
    {
     "name": "stdout",
     "output_type": "stream",
     "text": [
      "Train confusion matrix is: \n",
      "[[6824   31]\n",
      " [ 151 1649]]\n",
      "\n",
      "Test confusion matrix is: \n",
      "[[2291   32]\n",
      " [ 296  267]]\n",
      "\n",
      "              precision    recall  f1-score   support\n",
      "\n",
      "           0       0.89      0.99      0.93      2323\n",
      "           1       0.89      0.47      0.62       563\n",
      "\n",
      "    accuracy                           0.89      2886\n",
      "   macro avg       0.89      0.73      0.78      2886\n",
      "weighted avg       0.89      0.89      0.87      2886\n",
      "\n",
      "\n",
      "Train accuracy score:  0.9789716926632005\n",
      "Test accuracy score:  0.8863478863478863\n",
      "\n",
      "\n"
     ]
    },
    {
     "data": {
      "image/png": "[encoded data removed]",
      "text/plain": [
       "<Figure size 432x288 with 1 Axes>"
      ]
     },
     "metadata": {},
     "output_type": "display_data"
    }
   ],
   "source": [
    "SVM = svm.SVC( probability=True)\n",
    "s_train_accuracy, s_test_accuracy = check_scores(SVM,x_train, x_test, y_train, y_test)\n"
   ]
  },
  {
   "cell_type": "markdown",
   "id": "0e087f4d",
   "metadata": {
    "papermill": {
     "duration": 0.029593,
     "end_time": "2022-07-10T16:48:25.921416",
     "exception": false,
     "start_time": "2022-07-10T16:48:25.891823",
     "status": "completed"
    },
    "tags": []
   },
   "source": [
    "> With increase in recall, precision decreases."
   ]
  },
  {
   "cell_type": "markdown",
   "id": "7c052033",
   "metadata": {
    "papermill": {
     "duration": 0.030233,
     "end_time": "2022-07-10T16:48:25.977914",
     "exception": false,
     "start_time": "2022-07-10T16:48:25.947681",
     "status": "completed"
    },
    "tags": []
   },
   "source": [
    "<div style=\"color:white;\n",
    "           display:fill;\n",
    "           border-radius:5px;\n",
    "           font-size:110%;\n",
    "           font-family:cursive;\n",
    "           letter-spacing:0.5px;\n",
    "           background-color:powderblue;\n",
    "           color:Black;\n",
    "           font-family:Arial\n",
    "           \">\n",
    "<h1 style=\"text-align:center;font-weight: bold\"> After optimizing the hyperparameters for SVM </h1>\n",
    "</div>\n"
   ]
  },
  {
   "cell_type": "code",
   "execution_count": 14,
   "id": "34da07bb",
   "metadata": {
    "execution": {
     "iopub.execute_input": "2022-07-10T16:48:26.043035Z",
     "iopub.status.busy": "2022-07-10T16:48:26.042220Z",
     "iopub.status.idle": "2022-07-10T16:48:26.044790Z",
     "shell.execute_reply": "2022-07-10T16:48:26.044354Z",
     "shell.execute_reply.started": "2022-07-10T16:33:06.409853Z"
    },
    "papermill": {
     "duration": 0.0358,
     "end_time": "2022-07-10T16:48:26.044909",
     "exception": false,
     "start_time": "2022-07-10T16:48:26.009109",
     "status": "completed"
    },
    "tags": []
   },
   "outputs": [],
   "source": [
    "def grid_search(model, parameters, X_train, Y_train):\n",
    "  #Doing a grid\n",
    "  grid = GridSearchCV(estimator=model,\n",
    "                       param_grid = parameters,\n",
    "                       cv = 2, verbose=2, scoring='roc_auc')\n",
    "  #Fitting the grid \n",
    "  grid.fit(X_train,Y_train)\n",
    "  print()\n",
    "  print()\n",
    "  # Best model found using grid search\n",
    "  optimal_model = grid.best_estimator_\n",
    "  print('Best parameters are: ')\n",
    "  print( grid.best_params_)\n",
    "\n",
    "  return optimal_model"
   ]
  },
  {
   "cell_type": "code",
   "execution_count": 15,
   "id": "0d138511",
   "metadata": {
    "execution": {
     "iopub.execute_input": "2022-07-10T16:48:26.112904Z",
     "iopub.status.busy": "2022-07-10T16:48:26.111975Z",
     "iopub.status.idle": "2022-07-10T16:53:01.908325Z",
     "shell.execute_reply": "2022-07-10T16:53:01.909001Z",
     "shell.execute_reply.started": "2022-07-10T16:33:06.417703Z"
    },
    "papermill": {
     "duration": 275.834293,
     "end_time": "2022-07-10T16:53:01.909227",
     "exception": false,
     "start_time": "2022-07-10T16:48:26.074934",
     "status": "completed"
    },
    "tags": []
   },
   "outputs": [
    {
     "name": "stdout",
     "output_type": "stream",
     "text": [
      "Fitting 2 folds for each of 18 candidates, totalling 36 fits\n",
      "[CV] C=0.1, gamma=scale, kernel=linear ...............................\n"
     ]
    },
    {
     "name": "stderr",
     "output_type": "stream",
     "text": [
      "[Parallel(n_jobs=1)]: Using backend SequentialBackend with 1 concurrent workers.\n"
     ]
    },
    {
     "name": "stdout",
     "output_type": "stream",
     "text": [
      "[CV] ................ C=0.1, gamma=scale, kernel=linear, total=   6.1s\n",
      "[CV] C=0.1, gamma=scale, kernel=linear ...............................\n"
     ]
    },
    {
     "name": "stderr",
     "output_type": "stream",
     "text": [
      "[Parallel(n_jobs=1)]: Done   1 out of   1 | elapsed:    6.1s remaining:    0.0s\n"
     ]
    },
    {
     "name": "stdout",
     "output_type": "stream",
     "text": [
      "[CV] ................ C=0.1, gamma=scale, kernel=linear, total=   5.7s\n",
      "[CV] C=0.1, gamma=scale, kernel=rbf ..................................\n",
      "[CV] ................... C=0.1, gamma=scale, kernel=rbf, total=  10.5s\n",
      "[CV] C=0.1, gamma=scale, kernel=rbf ..................................\n",
      "[CV] ................... C=0.1, gamma=scale, kernel=rbf, total=   9.7s\n",
      "[CV] C=0.1, gamma=scale, kernel=sigmoid ..............................\n",
      "[CV] ............... C=0.1, gamma=scale, kernel=sigmoid, total=   6.1s\n",
      "[CV] C=0.1, gamma=scale, kernel=sigmoid ..............................\n",
      "[CV] ............... C=0.1, gamma=scale, kernel=sigmoid, total=   5.9s\n",
      "[CV] C=0.1, gamma=auto, kernel=linear ................................\n",
      "[CV] ................. C=0.1, gamma=auto, kernel=linear, total=   6.0s\n",
      "[CV] C=0.1, gamma=auto, kernel=linear ................................\n",
      "[CV] ................. C=0.1, gamma=auto, kernel=linear, total=   6.0s\n",
      "[CV] C=0.1, gamma=auto, kernel=rbf ...................................\n",
      "[CV] .................... C=0.1, gamma=auto, kernel=rbf, total=   4.9s\n",
      "[CV] C=0.1, gamma=auto, kernel=rbf ...................................\n",
      "[CV] .................... C=0.1, gamma=auto, kernel=rbf, total=   4.8s\n",
      "[CV] C=0.1, gamma=auto, kernel=sigmoid ...............................\n",
      "[CV] ................ C=0.1, gamma=auto, kernel=sigmoid, total=   4.3s\n",
      "[CV] C=0.1, gamma=auto, kernel=sigmoid ...............................\n",
      "[CV] ................ C=0.1, gamma=auto, kernel=sigmoid, total=   4.3s\n",
      "[CV] C=1, gamma=scale, kernel=linear .................................\n",
      "[CV] .................. C=1, gamma=scale, kernel=linear, total=   5.6s\n",
      "[CV] C=1, gamma=scale, kernel=linear .................................\n",
      "[CV] .................. C=1, gamma=scale, kernel=linear, total=   5.7s\n",
      "[CV] C=1, gamma=scale, kernel=rbf ....................................\n",
      "[CV] ..................... C=1, gamma=scale, kernel=rbf, total=  11.0s\n",
      "[CV] C=1, gamma=scale, kernel=rbf ....................................\n",
      "[CV] ..................... C=1, gamma=scale, kernel=rbf, total=  10.6s\n",
      "[CV] C=1, gamma=scale, kernel=sigmoid ................................\n",
      "[CV] ................. C=1, gamma=scale, kernel=sigmoid, total=   5.5s\n",
      "[CV] C=1, gamma=scale, kernel=sigmoid ................................\n",
      "[CV] ................. C=1, gamma=scale, kernel=sigmoid, total=   5.6s\n",
      "[CV] C=1, gamma=auto, kernel=linear ..................................\n",
      "[CV] ................... C=1, gamma=auto, kernel=linear, total=   6.1s\n",
      "[CV] C=1, gamma=auto, kernel=linear ..................................\n",
      "[CV] ................... C=1, gamma=auto, kernel=linear, total=   5.6s\n",
      "[CV] C=1, gamma=auto, kernel=rbf .....................................\n",
      "[CV] ...................... C=1, gamma=auto, kernel=rbf, total=   4.9s\n",
      "[CV] C=1, gamma=auto, kernel=rbf .....................................\n",
      "[CV] ...................... C=1, gamma=auto, kernel=rbf, total=   5.3s\n",
      "[CV] C=1, gamma=auto, kernel=sigmoid .................................\n",
      "[CV] .................. C=1, gamma=auto, kernel=sigmoid, total=   4.4s\n",
      "[CV] C=1, gamma=auto, kernel=sigmoid .................................\n",
      "[CV] .................. C=1, gamma=auto, kernel=sigmoid, total=   4.4s\n",
      "[CV] C=10, gamma=scale, kernel=linear ................................\n",
      "[CV] ................. C=10, gamma=scale, kernel=linear, total=   6.4s\n",
      "[CV] C=10, gamma=scale, kernel=linear ................................\n",
      "[CV] ................. C=10, gamma=scale, kernel=linear, total=   6.2s\n",
      "[CV] C=10, gamma=scale, kernel=rbf ...................................\n",
      "[CV] .................... C=10, gamma=scale, kernel=rbf, total=  12.0s\n",
      "[CV] C=10, gamma=scale, kernel=rbf ...................................\n",
      "[CV] .................... C=10, gamma=scale, kernel=rbf, total=  11.6s\n",
      "[CV] C=10, gamma=scale, kernel=sigmoid ...............................\n",
      "[CV] ................ C=10, gamma=scale, kernel=sigmoid, total=   8.1s\n",
      "[CV] C=10, gamma=scale, kernel=sigmoid ...............................\n",
      "[CV] ................ C=10, gamma=scale, kernel=sigmoid, total=   6.7s\n",
      "[CV] C=10, gamma=auto, kernel=linear .................................\n",
      "[CV] .................. C=10, gamma=auto, kernel=linear, total=   6.3s\n",
      "[CV] C=10, gamma=auto, kernel=linear .................................\n",
      "[CV] .................. C=10, gamma=auto, kernel=linear, total=   6.0s\n",
      "[CV] C=10, gamma=auto, kernel=rbf ....................................\n",
      "[CV] ..................... C=10, gamma=auto, kernel=rbf, total=   6.7s\n",
      "[CV] C=10, gamma=auto, kernel=rbf ....................................\n",
      "[CV] ..................... C=10, gamma=auto, kernel=rbf, total=   6.7s\n",
      "[CV] C=10, gamma=auto, kernel=sigmoid ................................\n",
      "[CV] ................. C=10, gamma=auto, kernel=sigmoid, total=   5.3s\n",
      "[CV] C=10, gamma=auto, kernel=sigmoid ................................\n",
      "[CV] ................. C=10, gamma=auto, kernel=sigmoid, total=   5.4s\n"
     ]
    },
    {
     "name": "stderr",
     "output_type": "stream",
     "text": [
      "[Parallel(n_jobs=1)]: Done  36 out of  36 | elapsed:  3.9min finished\n"
     ]
    },
    {
     "name": "stdout",
     "output_type": "stream",
     "text": [
      "\n",
      "\n",
      "Best parameters are: \n",
      "{'C': 10, 'gamma': 'scale', 'kernel': 'rbf'}\n"
     ]
    }
   ],
   "source": [
    "# Tuning the hyperparameters\n",
    "parameters ={\n",
    "    \"C\":[0.1,1,10],\n",
    "    \"kernel\":['linear', 'rbf', 'sigmoid'],\n",
    "    \"gamma\":['scale', 'auto']\n",
    "}\n",
    "\n",
    "\n",
    "\n",
    "svm_optimal = grid_search(svm.SVC(probability=True), parameters,x_train, y_train)"
   ]
  },
  {
   "cell_type": "code",
   "execution_count": 16,
   "id": "3b857761",
   "metadata": {
    "execution": {
     "iopub.execute_input": "2022-07-10T16:53:01.994314Z",
     "iopub.status.busy": "2022-07-10T16:53:01.993308Z",
     "iopub.status.idle": "2022-07-10T16:53:51.320962Z",
     "shell.execute_reply": "2022-07-10T16:53:51.320213Z",
     "shell.execute_reply.started": "2022-07-10T16:37:12.648752Z"
    },
    "papermill": {
     "duration": 49.373442,
     "end_time": "2022-07-10T16:53:51.321112",
     "exception": false,
     "start_time": "2022-07-10T16:53:01.947670",
     "status": "completed"
    },
    "tags": []
   },
   "outputs": [
    {
     "name": "stdout",
     "output_type": "stream",
     "text": [
      "Train confusion matrix is: \n",
      "[[6829   26]\n",
      " [   5 1795]]\n",
      "\n",
      "Test confusion matrix is: \n",
      "[[2272   51]\n",
      " [ 245  318]]\n",
      "\n",
      "              precision    recall  f1-score   support\n",
      "\n",
      "           0       0.90      0.98      0.94      2323\n",
      "           1       0.86      0.56      0.68       563\n",
      "\n",
      "    accuracy                           0.90      2886\n",
      "   macro avg       0.88      0.77      0.81      2886\n",
      "weighted avg       0.89      0.90      0.89      2886\n",
      "\n",
      "\n",
      "Train accuracy score:  0.996418255343732\n",
      "Test accuracy score:  0.8974358974358975\n",
      "\n",
      "\n"
     ]
    },
    {
     "data": {
      "image/png": "[encoded data removed]",
      "text/plain": [
       "<Figure size 432x288 with 1 Axes>"
      ]
     },
     "metadata": {},
     "output_type": "display_data"
    }
   ],
   "source": [
    "so_train_accuracy, so_test_accuracy= check_scores(svm_optimal,x_train, x_test, y_train, y_test)"
   ]
  },
  {
   "cell_type": "markdown",
   "id": "20cd4d27",
   "metadata": {
    "papermill": {
     "duration": 0.038418,
     "end_time": "2022-07-10T16:53:51.399257",
     "exception": false,
     "start_time": "2022-07-10T16:53:51.360839",
     "status": "completed"
    },
    "tags": []
   },
   "source": [
    "> With increase in recall, preciison decreases which makes sense also."
   ]
  },
  {
   "cell_type": "markdown",
   "id": "8f29107f",
   "metadata": {
    "papermill": {
     "duration": 0.038304,
     "end_time": "2022-07-10T16:53:51.476448",
     "exception": false,
     "start_time": "2022-07-10T16:53:51.438144",
     "status": "completed"
    },
    "tags": []
   },
   "source": [
    "<div style=\"color:white;\n",
    "           display:fill;\n",
    "           border-radius:5px;\n",
    "           font-size:110%;\n",
    "           font-family:cursive;\n",
    "           letter-spacing:0.5px;\n",
    "           background-color:powderblue;\n",
    "           color:Black;\n",
    "           font-family:Arial\n",
    "           \">\n",
    "<h1 style=\"text-align:center;font-weight: bold\"> Using Gaussian Naive Bayes\n",
    " </h1>\n",
    "</div>\n"
   ]
  },
  {
   "cell_type": "code",
   "execution_count": 17,
   "id": "cc709ccc",
   "metadata": {
    "execution": {
     "iopub.execute_input": "2022-07-10T16:53:51.558222Z",
     "iopub.status.busy": "2022-07-10T16:53:51.557449Z",
     "iopub.status.idle": "2022-07-10T16:53:55.860481Z",
     "shell.execute_reply": "2022-07-10T16:53:55.860969Z",
     "shell.execute_reply.started": "2022-07-10T16:37:59.350072Z"
    },
    "papermill": {
     "duration": 4.34693,
     "end_time": "2022-07-10T16:53:55.861155",
     "exception": false,
     "start_time": "2022-07-10T16:53:51.514225",
     "status": "completed"
    },
    "tags": []
   },
   "outputs": [
    {
     "name": "stdout",
     "output_type": "stream",
     "text": [
      "Train confusion matrix is: \n",
      "[[5543 1312]\n",
      " [   0 1800]]\n",
      "\n",
      "Test confusion matrix is: \n",
      "[[1623  700]\n",
      " [ 181  382]]\n",
      "\n",
      "              precision    recall  f1-score   support\n",
      "\n",
      "           0       0.90      0.70      0.79      2323\n",
      "           1       0.35      0.68      0.46       563\n",
      "\n",
      "    accuracy                           0.69      2886\n",
      "   macro avg       0.63      0.69      0.63      2886\n",
      "weighted avg       0.79      0.69      0.72      2886\n",
      "\n",
      "\n",
      "Train accuracy score:  0.8484113229347198\n",
      "Test accuracy score:  0.6947331947331947\n",
      "\n",
      "\n"
     ]
    },
    {
     "data": {
      "image/png": "[encoded data removed]",
      "text/plain": [
       "<Figure size 432x288 with 1 Axes>"
      ]
     },
     "metadata": {},
     "output_type": "display_data"
    }
   ],
   "source": [
    "g_train_accuracy, g_test_accuracy =check_scores(GaussianNB(),x_train.toarray(), x_test.toarray(), y_train, y_test)\n"
   ]
  },
  {
   "cell_type": "markdown",
   "id": "daa5215b",
   "metadata": {
    "papermill": {
     "duration": 0.040078,
     "end_time": "2022-07-10T16:53:55.942284",
     "exception": false,
     "start_time": "2022-07-10T16:53:55.902206",
     "status": "completed"
    },
    "tags": []
   },
   "source": [
    "> It is interesting to see in Naive Bayes, we are getting linear relationship."
   ]
  },
  {
   "cell_type": "markdown",
   "id": "2c48bfd2",
   "metadata": {
    "papermill": {
     "duration": 0.039529,
     "end_time": "2022-07-10T16:53:56.021092",
     "exception": false,
     "start_time": "2022-07-10T16:53:55.981563",
     "status": "completed"
    },
    "tags": []
   },
   "source": [
    "<div style=\"color:white;\n",
    "           display:fill;\n",
    "           border-radius:5px;\n",
    "           font-size:110%;\n",
    "           font-family:cursive;\n",
    "           letter-spacing:0.5px;\n",
    "           background-color:powderblue;\n",
    "           color:Black;\n",
    "           font-family:Arial\n",
    "           \">\n",
    "<h1 style=\"text-align:center;font-weight: bold\">Using Random Forest\n",
    " </h1>\n",
    "</div>\n",
    "\n"
   ]
  },
  {
   "cell_type": "code",
   "execution_count": 18,
   "id": "5651fb56",
   "metadata": {
    "execution": {
     "iopub.execute_input": "2022-07-10T16:53:56.109177Z",
     "iopub.status.busy": "2022-07-10T16:53:56.108261Z",
     "iopub.status.idle": "2022-07-10T16:54:23.466888Z",
     "shell.execute_reply": "2022-07-10T16:54:23.467800Z",
     "shell.execute_reply.started": "2022-07-10T16:38:03.683639Z"
    },
    "papermill": {
     "duration": 27.404116,
     "end_time": "2022-07-10T16:54:23.468043",
     "exception": false,
     "start_time": "2022-07-10T16:53:56.063927",
     "status": "completed"
    },
    "tags": []
   },
   "outputs": [
    {
     "name": "stdout",
     "output_type": "stream",
     "text": [
      "Train confusion matrix is: \n",
      "[[6829   26]\n",
      " [   5 1795]]\n",
      "\n",
      "Test confusion matrix is: \n",
      "[[2215  108]\n",
      " [ 238  325]]\n",
      "\n",
      "              precision    recall  f1-score   support\n",
      "\n",
      "           0       0.90      0.95      0.93      2323\n",
      "           1       0.75      0.58      0.65       563\n",
      "\n",
      "    accuracy                           0.88      2886\n",
      "   macro avg       0.83      0.77      0.79      2886\n",
      "weighted avg       0.87      0.88      0.87      2886\n",
      "\n",
      "\n",
      "Train accuracy score:  0.996418255343732\n",
      "Test accuracy score:  0.8801108801108801\n",
      "\n",
      "\n"
     ]
    },
    {
     "data": {
      "image/png": "[encoded data removed]",
      "text/plain": [
       "<Figure size 432x288 with 1 Axes>"
      ]
     },
     "metadata": {},
     "output_type": "display_data"
    }
   ],
   "source": [
    "r_train_accuracy, r_test_accuracy= check_scores(RandomForestClassifier(random_state=0).fit(x_train, y_train), x_train,x_test,y_train,y_test)\n"
   ]
  },
  {
   "cell_type": "markdown",
   "id": "5638b59b",
   "metadata": {
    "papermill": {
     "duration": 0.04653,
     "end_time": "2022-07-10T16:54:23.583808",
     "exception": false,
     "start_time": "2022-07-10T16:54:23.537278",
     "status": "completed"
    },
    "tags": []
   },
   "source": [
    "<div style=\"color:white;\n",
    "           display:fill;\n",
    "           border-radius:5px;\n",
    "           font-size:110%;\n",
    "           font-family:cursive;\n",
    "           letter-spacing:0.5px;\n",
    "           background-color:powderblue;\n",
    "           color:Black;\n",
    "           font-family:Arial\n",
    "           \">\n",
    "<h1 style=\"text-align:center;font-weight: bold\">Final Results\n",
    " </h1>\n",
    "</div>\n",
    "\n"
   ]
  },
  {
   "cell_type": "code",
   "execution_count": 19,
   "id": "df2af9e5",
   "metadata": {
    "execution": {
     "iopub.execute_input": "2022-07-10T16:54:23.672446Z",
     "iopub.status.busy": "2022-07-10T16:54:23.671598Z",
     "iopub.status.idle": "2022-07-10T16:54:23.681127Z",
     "shell.execute_reply": "2022-07-10T16:54:23.681585Z",
     "shell.execute_reply.started": "2022-07-10T16:38:30.293333Z"
    },
    "papermill": {
     "duration": 0.057106,
     "end_time": "2022-07-10T16:54:23.681736",
     "exception": false,
     "start_time": "2022-07-10T16:54:23.624630",
     "status": "completed"
    },
    "tags": []
   },
   "outputs": [
    {
     "data": {
      "text/html": [
       "<div>\n",
       "<style scoped>\n",
       "    .dataframe tbody tr th:only-of-type {\n",
       "        vertical-align: middle;\n",
       "    }\n",
       "\n",
       "    .dataframe tbody tr th {\n",
       "        vertical-align: top;\n",
       "    }\n",
       "\n",
       "    .dataframe thead th {\n",
       "        text-align: right;\n",
       "    }\n",
       "</style>\n",
       "<table border=\"1\" class=\"dataframe\">\n",
       "  <thead>\n",
       "    <tr style=\"text-align: right;\">\n",
       "      <th></th>\n",
       "      <th>Train Accuracy</th>\n",
       "      <th>Test Accuracy</th>\n",
       "    </tr>\n",
       "    <tr>\n",
       "      <th>Model Name</th>\n",
       "      <th></th>\n",
       "      <th></th>\n",
       "    </tr>\n",
       "  </thead>\n",
       "  <tbody>\n",
       "    <tr>\n",
       "      <th>Random Forest</th>\n",
       "      <td>0.996418</td>\n",
       "      <td>0.880111</td>\n",
       "    </tr>\n",
       "    <tr>\n",
       "      <th>Gaussian Naive Bayes</th>\n",
       "      <td>0.848411</td>\n",
       "      <td>0.694733</td>\n",
       "    </tr>\n",
       "    <tr>\n",
       "      <th>SVM</th>\n",
       "      <td>0.978972</td>\n",
       "      <td>0.886348</td>\n",
       "    </tr>\n",
       "    <tr>\n",
       "      <th>SVM Optimized</th>\n",
       "      <td>0.996418</td>\n",
       "      <td>0.897436</td>\n",
       "    </tr>\n",
       "  </tbody>\n",
       "</table>\n",
       "</div>"
      ],
      "text/plain": [
       "                      Train Accuracy  Test Accuracy\n",
       "Model Name                                         \n",
       "Random Forest               0.996418       0.880111\n",
       "Gaussian Naive Bayes        0.848411       0.694733\n",
       "SVM                         0.978972       0.886348\n",
       "SVM Optimized               0.996418       0.897436"
      ]
     },
     "execution_count": 19,
     "metadata": {},
     "output_type": "execute_result"
    }
   ],
   "source": [
    "data = [('Random Forest', r_train_accuracy, r_test_accuracy),\n",
    "('Gaussian Naive Bayes',g_train_accuracy, g_test_accuracy),\n",
    "('SVM', s_train_accuracy, s_test_accuracy),\n",
    "('SVM Optimized', so_train_accuracy, so_test_accuracy)]\n",
    "\n",
    "\n",
    "Scores =pd.DataFrame(data = data, columns=['Model Name','Train Accuracy', 'Test Accuracy'])\n",
    "Scores.set_index('Model Name', inplace = True)\n",
    "Scores"
   ]
  },
  {
   "cell_type": "markdown",
   "id": "40ee62e2",
   "metadata": {
    "papermill": {
     "duration": 0.041447,
     "end_time": "2022-07-10T16:54:23.763988",
     "exception": false,
     "start_time": "2022-07-10T16:54:23.722541",
     "status": "completed"
    },
    "tags": []
   },
   "source": [
    "\n",
    "<div style=\"color:white;\n",
    "           display:fill;\n",
    "           border-radius:5px;\n",
    "           font-size:110%;\n",
    "           font-family:cursive;\n",
    "           letter-spacing:0.5px;\n",
    "           background-color:powderblue;\n",
    "           color:Black;\n",
    "           font-family:Arial\n",
    "           \">\n",
    "<h1 style=\"text-align:center;font-weight: bold\">Conclusion\n",
    " </h1>\n",
    "</div>\n",
    "\n",
    "**Most of the models are doing pretty well here, and Optimized SVM performed the best.**"
   ]
  }
 ],
 "metadata": {
  "kernelspec": {
   "display_name": "Python 3",
   "language": "python",
   "name": "python3"
  },
  "language_info": {
   "codemirror_mode": {
    "name": "ipython",
    "version": 3
   },
   "file_extension": ".py",
   "mimetype": "text/x-python",
   "name": "python",
   "nbconvert_exporter": "python",
   "pygments_lexer": "ipython3",
   "version": "3.7.10"
  },
  "papermill": {
   "default_parameters": {},
   "duration": 441.898454,
   "end_time": "2022-07-10T16:54:25.271566",
   "environment_variables": {},
   "exception": null,
   "input_path": "__notebook__.ipynb",
   "output_path": "__notebook__.ipynb",
   "parameters": {},
   "start_time": "2022-07-10T16:47:03.373112",
   "version": "2.3.3"
  }
 },
 "nbformat": 4,
 "nbformat_minor": 5
}
