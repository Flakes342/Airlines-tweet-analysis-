{
 "cells": [
  {
   "cell_type": "markdown",
   "id": "ac49c61f",
   "metadata": {
    "_cell_guid": "b1076dfc-b9ad-4769-8c92-a6c4dae69d19",
    "_uuid": "8f2839f25d086af736a60e9eeb907d3b93b6e0e5",
    "execution": {
     "iopub.execute_input": "2021-10-08T12:58:11.812902Z",
     "iopub.status.busy": "2021-10-08T12:58:11.812144Z",
     "iopub.status.idle": "2021-10-08T12:58:11.829075Z",
     "shell.execute_reply": "2021-10-08T12:58:11.828148Z",
     "shell.execute_reply.started": "2021-10-08T12:58:11.812847Z"
    },
    "papermill": {
     "duration": 0.021664,
     "end_time": "2022-07-10T16:30:09.575306",
     "exception": false,
     "start_time": "2022-07-10T16:30:09.553642",
     "status": "completed"
    },
    "tags": []
   },
   "source": [
    "<div style=\"color:white;\n",
    "           display:fill;\n",
    "           border-radius:5px;\n",
    "           font-size:110%;\n",
    "           font-family:cursive;\n",
    "           letter-spacing:0.5px;\n",
    "           background-color:Black;\n",
    "           color:White;\n",
    "           font-family:Arial\n",
    "           \">\n",
    "<h1 style=\"text-align:center;font-weight: bold\">Twitter Sentiment Analysis With SVM, Naive Bayes,and Random Forest </h1>\n",
    "\n",
    "</div>\n",
    "<p><img src = \"https://newsin.asia/wp-content/uploads/2016/07/plane.jpg\" class=\"center\"> </p>\n"
   ]
  },
  {
   "cell_type": "markdown",
   "id": "a8ec8ad6",
   "metadata": {
    "papermill": {
     "duration": 0.021887,
     "end_time": "2022-07-10T16:30:09.620005",
     "exception": false,
     "start_time": "2022-07-10T16:30:09.598118",
     "status": "completed"
    },
    "tags": []
   },
   "source": [
    "<div style=\"color:white;\n",
    "           display:fill;\n",
    "           border-radius:5px;\n",
    "           font-size:110%;\n",
    "           font-family:cursive;\n",
    "           letter-spacing:0.5px;\n",
    "           background-color:powderblue;\n",
    "           color:Black;\n",
    "           font-family:Arial\n",
    "           \">\n",
    "<h1 style=\"text-align:center;font-weight: bold\"> Importing Libraries </h1>\n",
    "</div>\n"
   ]
  },
  {
   "cell_type": "code",
   "execution_count": 1,
   "id": "088e76fd",
   "metadata": {
    "execution": {
     "iopub.execute_input": "2022-07-10T16:30:09.744736Z",
     "iopub.status.busy": "2022-07-10T16:30:09.744039Z",
     "iopub.status.idle": "2022-07-10T16:30:11.652965Z",
     "shell.execute_reply": "2022-07-10T16:30:11.652388Z",
     "shell.execute_reply.started": "2022-07-10T16:20:42.781238Z"
    },
    "papermill": {
     "duration": 2.012601,
     "end_time": "2022-07-10T16:30:11.653125",
     "exception": false,
     "start_time": "2022-07-10T16:30:09.640524",
     "status": "completed"
    },
    "tags": []
   },
   "outputs": [
    {
     "name": "stdout",
     "output_type": "stream",
     "text": [
      "[nltk_data] Downloading package punkt to /usr/share/nltk_data...\n",
      "[nltk_data]   Package punkt is already up-to-date!\n",
      "[nltk_data] Downloading package stopwords to /usr/share/nltk_data...\n",
      "[nltk_data]   Unzipping corpora/stopwords.zip.\n"
     ]
    }
   ],
   "source": [
    "import pandas as pd\n",
    "import numpy as np\n",
    "import seaborn as sns\n",
    "import re, nltk\n",
    "nltk.download('punkt')\n",
    "import matplotlib.pyplot as plt \n",
    "from sklearn.model_selection import train_test_split, StratifiedKFold, cross_val_score\n",
    "from sklearn import model_selection, naive_bayes, svm\n",
    "from sklearn.metrics import classification_report,confusion_matrix\n",
    "from sklearn.metrics import roc_auc_score\n",
    "from sklearn.metrics import recall_score\n",
    "from sklearn.metrics import f1_score\n",
    "from sklearn.metrics import accuracy_score\n",
    "from sklearn.metrics import precision_recall_curve\n",
    "from sklearn.metrics import auc\n",
    "from matplotlib import pyplot\n",
    "import string\n",
    "from nltk.corpus import stopwords\n",
    "nltk.download('stopwords')\n",
    "from sklearn.feature_extraction.text import CountVectorizer, TfidfVectorizer\n",
    "plt.style.use('fivethirtyeight')\n",
    "plt.style.use('dark_background')\n",
    "from sklearn.model_selection import cross_val_score\n",
    "from sklearn.naive_bayes import GaussianNB\n",
    "from sklearn.ensemble import RandomForestClassifier\n",
    "from sklearn.model_selection import GridSearchCV"
   ]
  },
  {
   "cell_type": "code",
   "execution_count": 2,
   "id": "fd5cd24a",
   "metadata": {
    "execution": {
     "iopub.execute_input": "2022-07-10T16:30:11.700048Z",
     "iopub.status.busy": "2022-07-10T16:30:11.699438Z",
     "iopub.status.idle": "2022-07-10T16:30:11.845995Z",
     "shell.execute_reply": "2022-07-10T16:30:11.846415Z",
     "shell.execute_reply.started": "2022-07-10T15:19:47.489496Z"
    },
    "papermill": {
     "duration": 0.171014,
     "end_time": "2022-07-10T16:30:11.846580",
     "exception": false,
     "start_time": "2022-07-10T16:30:11.675566",
     "status": "completed"
    },
    "tags": []
   },
   "outputs": [
    {
     "data": {
      "text/html": [
       "<div>\n",
       "<style scoped>\n",
       "    .dataframe tbody tr th:only-of-type {\n",
       "        vertical-align: middle;\n",
       "    }\n",
       "\n",
       "    .dataframe tbody tr th {\n",
       "        vertical-align: top;\n",
       "    }\n",
       "\n",
       "    .dataframe thead th {\n",
       "        text-align: right;\n",
       "    }\n",
       "</style>\n",
       "<table border=\"1\" class=\"dataframe\">\n",
       "  <thead>\n",
       "    <tr style=\"text-align: right;\">\n",
       "      <th></th>\n",
       "      <th>tweet_id</th>\n",
       "      <th>airline_sentiment</th>\n",
       "      <th>airline_sentiment_confidence</th>\n",
       "      <th>negativereason</th>\n",
       "      <th>negativereason_confidence</th>\n",
       "      <th>airline</th>\n",
       "      <th>airline_sentiment_gold</th>\n",
       "      <th>name</th>\n",
       "      <th>negativereason_gold</th>\n",
       "      <th>retweet_count</th>\n",
       "      <th>text</th>\n",
       "      <th>tweet_coord</th>\n",
       "      <th>tweet_created</th>\n",
       "      <th>tweet_location</th>\n",
       "      <th>user_timezone</th>\n",
       "    </tr>\n",
       "  </thead>\n",
       "  <tbody>\n",
       "    <tr>\n",
       "      <th>0</th>\n",
       "      <td>570306133677760513</td>\n",
       "      <td>neutral</td>\n",
       "      <td>1.0000</td>\n",
       "      <td>NaN</td>\n",
       "      <td>NaN</td>\n",
       "      <td>Virgin America</td>\n",
       "      <td>NaN</td>\n",
       "      <td>cairdin</td>\n",
       "      <td>NaN</td>\n",
       "      <td>0</td>\n",
       "      <td>@VirginAmerica What @dhepburn said.</td>\n",
       "      <td>NaN</td>\n",
       "      <td>2015-02-24 11:35:52 -0800</td>\n",
       "      <td>NaN</td>\n",
       "      <td>Eastern Time (US &amp; Canada)</td>\n",
       "    </tr>\n",
       "    <tr>\n",
       "      <th>1</th>\n",
       "      <td>570301130888122368</td>\n",
       "      <td>positive</td>\n",
       "      <td>0.3486</td>\n",
       "      <td>NaN</td>\n",
       "      <td>0.0000</td>\n",
       "      <td>Virgin America</td>\n",
       "      <td>NaN</td>\n",
       "      <td>jnardino</td>\n",
       "      <td>NaN</td>\n",
       "      <td>0</td>\n",
       "      <td>@VirginAmerica plus you've added commercials t...</td>\n",
       "      <td>NaN</td>\n",
       "      <td>2015-02-24 11:15:59 -0800</td>\n",
       "      <td>NaN</td>\n",
       "      <td>Pacific Time (US &amp; Canada)</td>\n",
       "    </tr>\n",
       "    <tr>\n",
       "      <th>2</th>\n",
       "      <td>570301083672813571</td>\n",
       "      <td>neutral</td>\n",
       "      <td>0.6837</td>\n",
       "      <td>NaN</td>\n",
       "      <td>NaN</td>\n",
       "      <td>Virgin America</td>\n",
       "      <td>NaN</td>\n",
       "      <td>yvonnalynn</td>\n",
       "      <td>NaN</td>\n",
       "      <td>0</td>\n",
       "      <td>@VirginAmerica I didn't today... Must mean I n...</td>\n",
       "      <td>NaN</td>\n",
       "      <td>2015-02-24 11:15:48 -0800</td>\n",
       "      <td>Lets Play</td>\n",
       "      <td>Central Time (US &amp; Canada)</td>\n",
       "    </tr>\n",
       "    <tr>\n",
       "      <th>3</th>\n",
       "      <td>570301031407624196</td>\n",
       "      <td>negative</td>\n",
       "      <td>1.0000</td>\n",
       "      <td>Bad Flight</td>\n",
       "      <td>0.7033</td>\n",
       "      <td>Virgin America</td>\n",
       "      <td>NaN</td>\n",
       "      <td>jnardino</td>\n",
       "      <td>NaN</td>\n",
       "      <td>0</td>\n",
       "      <td>@VirginAmerica it's really aggressive to blast...</td>\n",
       "      <td>NaN</td>\n",
       "      <td>2015-02-24 11:15:36 -0800</td>\n",
       "      <td>NaN</td>\n",
       "      <td>Pacific Time (US &amp; Canada)</td>\n",
       "    </tr>\n",
       "    <tr>\n",
       "      <th>4</th>\n",
       "      <td>570300817074462722</td>\n",
       "      <td>negative</td>\n",
       "      <td>1.0000</td>\n",
       "      <td>Can't Tell</td>\n",
       "      <td>1.0000</td>\n",
       "      <td>Virgin America</td>\n",
       "      <td>NaN</td>\n",
       "      <td>jnardino</td>\n",
       "      <td>NaN</td>\n",
       "      <td>0</td>\n",
       "      <td>@VirginAmerica and it's a really big bad thing...</td>\n",
       "      <td>NaN</td>\n",
       "      <td>2015-02-24 11:14:45 -0800</td>\n",
       "      <td>NaN</td>\n",
       "      <td>Pacific Time (US &amp; Canada)</td>\n",
       "    </tr>\n",
       "  </tbody>\n",
       "</table>\n",
       "</div>"
      ],
      "text/plain": [
       "             tweet_id airline_sentiment  airline_sentiment_confidence  \\\n",
       "0  570306133677760513           neutral                        1.0000   \n",
       "1  570301130888122368          positive                        0.3486   \n",
       "2  570301083672813571           neutral                        0.6837   \n",
       "3  570301031407624196          negative                        1.0000   \n",
       "4  570300817074462722          negative                        1.0000   \n",
       "\n",
       "  negativereason  negativereason_confidence         airline  \\\n",
       "0            NaN                        NaN  Virgin America   \n",
       "1            NaN                     0.0000  Virgin America   \n",
       "2            NaN                        NaN  Virgin America   \n",
       "3     Bad Flight                     0.7033  Virgin America   \n",
       "4     Can't Tell                     1.0000  Virgin America   \n",
       "\n",
       "  airline_sentiment_gold        name negativereason_gold  retweet_count  \\\n",
       "0                    NaN     cairdin                 NaN              0   \n",
       "1                    NaN    jnardino                 NaN              0   \n",
       "2                    NaN  yvonnalynn                 NaN              0   \n",
       "3                    NaN    jnardino                 NaN              0   \n",
       "4                    NaN    jnardino                 NaN              0   \n",
       "\n",
       "                                                text tweet_coord  \\\n",
       "0                @VirginAmerica What @dhepburn said.         NaN   \n",
       "1  @VirginAmerica plus you've added commercials t...         NaN   \n",
       "2  @VirginAmerica I didn't today... Must mean I n...         NaN   \n",
       "3  @VirginAmerica it's really aggressive to blast...         NaN   \n",
       "4  @VirginAmerica and it's a really big bad thing...         NaN   \n",
       "\n",
       "               tweet_created tweet_location               user_timezone  \n",
       "0  2015-02-24 11:35:52 -0800            NaN  Eastern Time (US & Canada)  \n",
       "1  2015-02-24 11:15:59 -0800            NaN  Pacific Time (US & Canada)  \n",
       "2  2015-02-24 11:15:48 -0800      Lets Play  Central Time (US & Canada)  \n",
       "3  2015-02-24 11:15:36 -0800            NaN  Pacific Time (US & Canada)  \n",
       "4  2015-02-24 11:14:45 -0800            NaN  Pacific Time (US & Canada)  "
      ]
     },
     "execution_count": 2,
     "metadata": {},
     "output_type": "execute_result"
    }
   ],
   "source": [
    "df =pd.read_csv(r'../input/twitter-airline-sentiment/Tweets.csv')\n",
    "df.head()"
   ]
  },
  {
   "cell_type": "code",
   "execution_count": 3,
   "id": "fee32bef",
   "metadata": {
    "execution": {
     "iopub.execute_input": "2022-07-10T16:30:11.897008Z",
     "iopub.status.busy": "2022-07-10T16:30:11.896214Z",
     "iopub.status.idle": "2022-07-10T16:30:11.900810Z",
     "shell.execute_reply": "2022-07-10T16:30:11.900362Z",
     "shell.execute_reply.started": "2022-07-10T15:21:07.106642Z"
    },
    "papermill": {
     "duration": 0.032297,
     "end_time": "2022-07-10T16:30:11.900945",
     "exception": false,
     "start_time": "2022-07-10T16:30:11.868648",
     "status": "completed"
    },
    "tags": []
   },
   "outputs": [
    {
     "data": {
      "text/plain": [
       "array(['neutral', 'positive', 'negative'], dtype=object)"
      ]
     },
     "execution_count": 3,
     "metadata": {},
     "output_type": "execute_result"
    }
   ],
   "source": [
    "# Unique values of sentiment\n",
    "df['airline_sentiment'].unique()"
   ]
  },
  {
   "cell_type": "code",
   "execution_count": 4,
   "id": "f7e3119f",
   "metadata": {
    "execution": {
     "iopub.execute_input": "2022-07-10T16:30:11.956130Z",
     "iopub.status.busy": "2022-07-10T16:30:11.946825Z",
     "iopub.status.idle": "2022-07-10T16:30:12.175139Z",
     "shell.execute_reply": "2022-07-10T16:30:12.174170Z",
     "shell.execute_reply.started": "2022-07-10T15:21:19.168717Z"
    },
    "papermill": {
     "duration": 0.252903,
     "end_time": "2022-07-10T16:30:12.175322",
     "exception": false,
     "start_time": "2022-07-10T16:30:11.922419",
     "status": "completed"
    },
    "tags": []
   },
   "outputs": [
    {
     "data": {
      "image/png": "[encoded data removed]",
      "text/plain": [
       "<Figure size 432x288 with 1 Axes>"
      ]
     },
     "metadata": {},
     "output_type": "display_data"
    }
   ],
   "source": [
    "# Unique values of sentiment plot\n",
    "\n",
    "ax = sns.countplot(x=\"airline_sentiment\", data=df)"
   ]
  },
  {
   "cell_type": "markdown",
   "id": "b6491f93",
   "metadata": {
    "papermill": {
     "duration": 0.044086,
     "end_time": "2022-07-10T16:30:12.268030",
     "exception": false,
     "start_time": "2022-07-10T16:30:12.223944",
     "status": "completed"
    },
    "tags": []
   },
   "source": [
    "> Positive and neutral tweets are almost equal.\n",
    "\n",
    "> Negative tweets are more than double of neutral or positive sentiments."
   ]
  },
  {
   "cell_type": "code",
   "execution_count": 5,
   "id": "924ed90d",
   "metadata": {
    "execution": {
     "iopub.execute_input": "2022-07-10T16:30:12.356756Z",
     "iopub.status.busy": "2022-07-10T16:30:12.356007Z",
     "iopub.status.idle": "2022-07-10T16:30:12.667368Z",
     "shell.execute_reply": "2022-07-10T16:30:12.668119Z",
     "shell.execute_reply.started": "2022-07-10T15:21:29.550919Z"
    },
    "papermill": {
     "duration": 0.355537,
     "end_time": "2022-07-10T16:30:12.668313",
     "exception": false,
     "start_time": "2022-07-10T16:30:12.312776",
     "status": "completed"
    },
    "tags": []
   },
   "outputs": [
    {
     "data": {
      "image/png": "[encoded data removed]",
      "text/plain": [
       "<Figure size 720x720 with 1 Axes>"
      ]
     },
     "metadata": {},
     "output_type": "display_data"
    }
   ],
   "source": [
    "# Unique values of airline\n",
    "\n",
    "plt.figure(figsize=(10,10))\n",
    "ax = sns.countplot(x=\"airline\", data=df)"
   ]
  },
  {
   "cell_type": "markdown",
   "id": "5bc6c884",
   "metadata": {
    "papermill": {
     "duration": 0.037109,
     "end_time": "2022-07-10T16:30:12.742632",
     "exception": false,
     "start_time": "2022-07-10T16:30:12.705523",
     "status": "completed"
    },
    "tags": []
   },
   "source": [
    "> United has the most number of flights.\n",
    "\n",
    "> Virgin America has the least."
   ]
  },
  {
   "cell_type": "markdown",
   "id": "0472ce74",
   "metadata": {
    "papermill": {
     "duration": 0.023648,
     "end_time": "2022-07-10T16:30:12.801351",
     "exception": false,
     "start_time": "2022-07-10T16:30:12.777703",
     "status": "completed"
    },
    "tags": []
   },
   "source": [
    "<div style=\"color:white;\n",
    "           display:fill;\n",
    "           border-radius:5px;\n",
    "           font-size:110%;\n",
    "           font-family:cursive;\n",
    "           letter-spacing:0.5px;\n",
    "           background-color:powderblue;\n",
    "           color:Black;\n",
    "           font-family:Arial\n",
    "           \">\n",
    "<h1 style=\"text-align:center;font-weight: bold\"> Utility Functions </h1>\n",
    "</div>\n"
   ]
  },
  {
   "cell_type": "code",
   "execution_count": 6,
   "id": "42a555d5",
   "metadata": {
    "execution": {
     "iopub.execute_input": "2022-07-10T16:30:12.860170Z",
     "iopub.status.busy": "2022-07-10T16:30:12.859333Z",
     "iopub.status.idle": "2022-07-10T16:30:12.861641Z",
     "shell.execute_reply": "2022-07-10T16:30:12.862028Z",
     "shell.execute_reply.started": "2022-07-10T16:01:08.415314Z"
    },
    "papermill": {
     "duration": 0.037839,
     "end_time": "2022-07-10T16:30:12.862158",
     "exception": false,
     "start_time": "2022-07-10T16:30:12.824319",
     "status": "completed"
    },
    "tags": []
   },
   "outputs": [],
   "source": [
    "# I am tokenizing the tweet and also taking tokens from second index onwards \n",
    "#as initital to gives airline name and '@' and lowering them and later making it back a sentence\n",
    "\n",
    "def clean_the_tweet(text):\n",
    "  tokens= nltk.word_tokenize(re.sub(\"[^a-zA-Z]\", \" \",text))\n",
    "  tokens = [token.lower() for token in tokens]\n",
    "  return ' '.join(tokens[2:])\n",
    "\n",
    "def text_process(msg):\n",
    "  nopunc =[char for char in msg if char not in string.punctuation]\n",
    "  nopunc=''.join(nopunc)\n",
    "  return ' '.join([word for word in nopunc.split() if word.lower() not in stopwords.words('english')])\n",
    "\n",
    "def check_scores(clf,X_train, X_test, y_train, y_test):\n",
    "  model=clf.fit(X_train, y_train)\n",
    "  predicted_class=model.predict(X_test)\n",
    "  predicted_class_train=model.predict(X_train)\n",
    "  test_probs = model.predict_proba(X_test)\n",
    "  test_probs = test_probs[:, 1]\n",
    "  yhat = model.predict(X_test)\n",
    "  lr_precision, lr_recall, _ = precision_recall_curve(y_test, test_probs)\n",
    "  lr_f1, lr_auc = f1_score(y_test, yhat), auc(lr_recall, lr_precision)\n",
    "\n",
    "\n",
    "  print('Train confusion matrix is: ',)\n",
    "  print(confusion_matrix(y_train, predicted_class_train))\n",
    "\n",
    "  print()\n",
    "  print('Test confusion matrix is: ')\n",
    "  print(confusion_matrix(y_test, predicted_class))\n",
    "  print()\n",
    "  print(classification_report(y_test,predicted_class)) \n",
    "  print() \n",
    "  train_accuracy = accuracy_score(y_train,predicted_class_train)\n",
    "  test_accuracy = accuracy_score(y_test,predicted_class)\n",
    "\n",
    "  print(\"Train accuracy score: \", train_accuracy)\n",
    "  print(\"Test accuracy score: \",test_accuracy )\n",
    "  print()\n",
    "\n",
    "  fig, (ax1) = plt.subplots(1, 1)\n",
    "\n",
    "  ax1.plot(lr_recall, lr_precision)\n",
    "  ax1.set(xlabel=\"Recall\", ylabel=\"Precision\")\n",
    "\n",
    "  plt.subplots_adjust(left=0.5,\n",
    "                    bottom=0.1, \n",
    "                    right=1.5, \n",
    "                    top=0.9, \n",
    "                    wspace=0.4, \n",
    "                    hspace=0.4)\n",
    "  print()\n",
    "  return train_accuracy, test_accuracy"
   ]
  },
  {
   "cell_type": "markdown",
   "id": "c6bb5a64",
   "metadata": {
    "papermill": {
     "duration": 0.023434,
     "end_time": "2022-07-10T16:30:12.908080",
     "exception": false,
     "start_time": "2022-07-10T16:30:12.884646",
     "status": "completed"
    },
    "tags": []
   },
   "source": [
    "<div style=\"color:white;\n",
    "           display:fill;\n",
    "           border-radius:5px;\n",
    "           font-size:110%;\n",
    "           font-family:cursive;\n",
    "           letter-spacing:0.5px;\n",
    "           background-color:powderblue;\n",
    "           color:Black;\n",
    "           font-family:Arial\n",
    "           \">\n",
    "<h1 style=\"text-align:center;font-weight: bold\"> Text Preparation </h1>\n",
    "</div>\n"
   ]
  },
  {
   "cell_type": "code",
   "execution_count": 7,
   "id": "426fef93",
   "metadata": {
    "execution": {
     "iopub.execute_input": "2022-07-10T16:30:12.960801Z",
     "iopub.status.busy": "2022-07-10T16:30:12.960281Z",
     "iopub.status.idle": "2022-07-10T16:30:15.522701Z",
     "shell.execute_reply": "2022-07-10T16:30:15.523192Z",
     "shell.execute_reply.started": "2022-07-10T15:24:47.253721Z"
    },
    "papermill": {
     "duration": 2.592132,
     "end_time": "2022-07-10T16:30:15.523348",
     "exception": false,
     "start_time": "2022-07-10T16:30:12.931216",
     "status": "completed"
    },
    "tags": []
   },
   "outputs": [
    {
     "data": {
      "text/html": [
       "<div>\n",
       "<style scoped>\n",
       "    .dataframe tbody tr th:only-of-type {\n",
       "        vertical-align: middle;\n",
       "    }\n",
       "\n",
       "    .dataframe tbody tr th {\n",
       "        vertical-align: top;\n",
       "    }\n",
       "\n",
       "    .dataframe thead th {\n",
       "        text-align: right;\n",
       "    }\n",
       "</style>\n",
       "<table border=\"1\" class=\"dataframe\">\n",
       "  <thead>\n",
       "    <tr style=\"text-align: right;\">\n",
       "      <th></th>\n",
       "      <th>tweet_id</th>\n",
       "      <th>airline_sentiment</th>\n",
       "      <th>airline_sentiment_confidence</th>\n",
       "      <th>negativereason</th>\n",
       "      <th>negativereason_confidence</th>\n",
       "      <th>airline</th>\n",
       "      <th>airline_sentiment_gold</th>\n",
       "      <th>name</th>\n",
       "      <th>negativereason_gold</th>\n",
       "      <th>retweet_count</th>\n",
       "      <th>text</th>\n",
       "      <th>tweet_coord</th>\n",
       "      <th>tweet_created</th>\n",
       "      <th>tweet_location</th>\n",
       "      <th>user_timezone</th>\n",
       "      <th>cleaned_tweet</th>\n",
       "    </tr>\n",
       "  </thead>\n",
       "  <tbody>\n",
       "    <tr>\n",
       "      <th>1</th>\n",
       "      <td>570301130888122368</td>\n",
       "      <td>positive</td>\n",
       "      <td>0.3486</td>\n",
       "      <td>NaN</td>\n",
       "      <td>0.0000</td>\n",
       "      <td>Virgin America</td>\n",
       "      <td>NaN</td>\n",
       "      <td>jnardino</td>\n",
       "      <td>NaN</td>\n",
       "      <td>0</td>\n",
       "      <td>@VirginAmerica plus you've added commercials t...</td>\n",
       "      <td>NaN</td>\n",
       "      <td>2015-02-24 11:15:59 -0800</td>\n",
       "      <td>NaN</td>\n",
       "      <td>Pacific Time (US &amp; Canada)</td>\n",
       "      <td>you ve added commercials to the experience tacky</td>\n",
       "    </tr>\n",
       "    <tr>\n",
       "      <th>3</th>\n",
       "      <td>570301031407624196</td>\n",
       "      <td>negative</td>\n",
       "      <td>1.0000</td>\n",
       "      <td>Bad Flight</td>\n",
       "      <td>0.7033</td>\n",
       "      <td>Virgin America</td>\n",
       "      <td>NaN</td>\n",
       "      <td>jnardino</td>\n",
       "      <td>NaN</td>\n",
       "      <td>0</td>\n",
       "      <td>@VirginAmerica it's really aggressive to blast...</td>\n",
       "      <td>NaN</td>\n",
       "      <td>2015-02-24 11:15:36 -0800</td>\n",
       "      <td>NaN</td>\n",
       "      <td>Pacific Time (US &amp; Canada)</td>\n",
       "      <td>s really aggressive to blast obnoxious enterta...</td>\n",
       "    </tr>\n",
       "    <tr>\n",
       "      <th>4</th>\n",
       "      <td>570300817074462722</td>\n",
       "      <td>negative</td>\n",
       "      <td>1.0000</td>\n",
       "      <td>Can't Tell</td>\n",
       "      <td>1.0000</td>\n",
       "      <td>Virgin America</td>\n",
       "      <td>NaN</td>\n",
       "      <td>jnardino</td>\n",
       "      <td>NaN</td>\n",
       "      <td>0</td>\n",
       "      <td>@VirginAmerica and it's a really big bad thing...</td>\n",
       "      <td>NaN</td>\n",
       "      <td>2015-02-24 11:14:45 -0800</td>\n",
       "      <td>NaN</td>\n",
       "      <td>Pacific Time (US &amp; Canada)</td>\n",
       "      <td>it s a really big bad thing about it</td>\n",
       "    </tr>\n",
       "    <tr>\n",
       "      <th>5</th>\n",
       "      <td>570300767074181121</td>\n",
       "      <td>negative</td>\n",
       "      <td>1.0000</td>\n",
       "      <td>Can't Tell</td>\n",
       "      <td>0.6842</td>\n",
       "      <td>Virgin America</td>\n",
       "      <td>NaN</td>\n",
       "      <td>jnardino</td>\n",
       "      <td>NaN</td>\n",
       "      <td>0</td>\n",
       "      <td>@VirginAmerica seriously would pay $30 a fligh...</td>\n",
       "      <td>NaN</td>\n",
       "      <td>2015-02-24 11:14:33 -0800</td>\n",
       "      <td>NaN</td>\n",
       "      <td>Pacific Time (US &amp; Canada)</td>\n",
       "      <td>would pay a flight for seats that didn t have ...</td>\n",
       "    </tr>\n",
       "    <tr>\n",
       "      <th>6</th>\n",
       "      <td>570300616901320704</td>\n",
       "      <td>positive</td>\n",
       "      <td>0.6745</td>\n",
       "      <td>NaN</td>\n",
       "      <td>0.0000</td>\n",
       "      <td>Virgin America</td>\n",
       "      <td>NaN</td>\n",
       "      <td>cjmcginnis</td>\n",
       "      <td>NaN</td>\n",
       "      <td>0</td>\n",
       "      <td>@VirginAmerica yes, nearly every time I fly VX...</td>\n",
       "      <td>NaN</td>\n",
       "      <td>2015-02-24 11:13:57 -0800</td>\n",
       "      <td>San Francisco CA</td>\n",
       "      <td>Pacific Time (US &amp; Canada)</td>\n",
       "      <td>nearly every time i fly vx this ear worm won t...</td>\n",
       "    </tr>\n",
       "  </tbody>\n",
       "</table>\n",
       "</div>"
      ],
      "text/plain": [
       "             tweet_id airline_sentiment  airline_sentiment_confidence  \\\n",
       "1  570301130888122368          positive                        0.3486   \n",
       "3  570301031407624196          negative                        1.0000   \n",
       "4  570300817074462722          negative                        1.0000   \n",
       "5  570300767074181121          negative                        1.0000   \n",
       "6  570300616901320704          positive                        0.6745   \n",
       "\n",
       "  negativereason  negativereason_confidence         airline  \\\n",
       "1            NaN                     0.0000  Virgin America   \n",
       "3     Bad Flight                     0.7033  Virgin America   \n",
       "4     Can't Tell                     1.0000  Virgin America   \n",
       "5     Can't Tell                     0.6842  Virgin America   \n",
       "6            NaN                     0.0000  Virgin America   \n",
       "\n",
       "  airline_sentiment_gold        name negativereason_gold  retweet_count  \\\n",
       "1                    NaN    jnardino                 NaN              0   \n",
       "3                    NaN    jnardino                 NaN              0   \n",
       "4                    NaN    jnardino                 NaN              0   \n",
       "5                    NaN    jnardino                 NaN              0   \n",
       "6                    NaN  cjmcginnis                 NaN              0   \n",
       "\n",
       "                                                text tweet_coord  \\\n",
       "1  @VirginAmerica plus you've added commercials t...         NaN   \n",
       "3  @VirginAmerica it's really aggressive to blast...         NaN   \n",
       "4  @VirginAmerica and it's a really big bad thing...         NaN   \n",
       "5  @VirginAmerica seriously would pay $30 a fligh...         NaN   \n",
       "6  @VirginAmerica yes, nearly every time I fly VX...         NaN   \n",
       "\n",
       "               tweet_created    tweet_location               user_timezone  \\\n",
       "1  2015-02-24 11:15:59 -0800               NaN  Pacific Time (US & Canada)   \n",
       "3  2015-02-24 11:15:36 -0800               NaN  Pacific Time (US & Canada)   \n",
       "4  2015-02-24 11:14:45 -0800               NaN  Pacific Time (US & Canada)   \n",
       "5  2015-02-24 11:14:33 -0800               NaN  Pacific Time (US & Canada)   \n",
       "6  2015-02-24 11:13:57 -0800  San Francisco CA  Pacific Time (US & Canada)   \n",
       "\n",
       "                                       cleaned_tweet  \n",
       "1   you ve added commercials to the experience tacky  \n",
       "3  s really aggressive to blast obnoxious enterta...  \n",
       "4               it s a really big bad thing about it  \n",
       "5  would pay a flight for seats that didn t have ...  \n",
       "6  nearly every time i fly vx this ear worm won t...  "
      ]
     },
     "execution_count": 7,
     "metadata": {},
     "output_type": "execute_result"
    }
   ],
   "source": [
    "# removing neutral tweets\n",
    "\n",
    "df = df[df['airline_sentiment']!='neutral']\n",
    "df['cleaned_tweet'] = df['text'].apply(clean_the_tweet)\n",
    "\n",
    "df.head()"
   ]
  },
  {
   "cell_type": "code",
   "execution_count": 8,
   "id": "9786f015",
   "metadata": {
    "execution": {
     "iopub.execute_input": "2022-07-10T16:30:15.590511Z",
     "iopub.status.busy": "2022-07-10T16:30:15.582716Z",
     "iopub.status.idle": "2022-07-10T16:30:15.602062Z",
     "shell.execute_reply": "2022-07-10T16:30:15.601580Z",
     "shell.execute_reply.started": "2022-07-10T15:25:47.797555Z"
    },
    "papermill": {
     "duration": 0.053875,
     "end_time": "2022-07-10T16:30:15.602169",
     "exception": false,
     "start_time": "2022-07-10T16:30:15.548294",
     "status": "completed"
    },
    "tags": []
   },
   "outputs": [
    {
     "data": {
      "text/html": [
       "<div>\n",
       "<style scoped>\n",
       "    .dataframe tbody tr th:only-of-type {\n",
       "        vertical-align: middle;\n",
       "    }\n",
       "\n",
       "    .dataframe tbody tr th {\n",
       "        vertical-align: top;\n",
       "    }\n",
       "\n",
       "    .dataframe thead th {\n",
       "        text-align: right;\n",
       "    }\n",
       "</style>\n",
       "<table border=\"1\" class=\"dataframe\">\n",
       "  <thead>\n",
       "    <tr style=\"text-align: right;\">\n",
       "      <th></th>\n",
       "      <th>tweet_id</th>\n",
       "      <th>airline_sentiment</th>\n",
       "      <th>airline_sentiment_confidence</th>\n",
       "      <th>negativereason</th>\n",
       "      <th>negativereason_confidence</th>\n",
       "      <th>airline</th>\n",
       "      <th>airline_sentiment_gold</th>\n",
       "      <th>name</th>\n",
       "      <th>negativereason_gold</th>\n",
       "      <th>retweet_count</th>\n",
       "      <th>text</th>\n",
       "      <th>tweet_coord</th>\n",
       "      <th>tweet_created</th>\n",
       "      <th>tweet_location</th>\n",
       "      <th>user_timezone</th>\n",
       "      <th>cleaned_tweet</th>\n",
       "    </tr>\n",
       "  </thead>\n",
       "  <tbody>\n",
       "    <tr>\n",
       "      <th>1</th>\n",
       "      <td>570301130888122368</td>\n",
       "      <td>1</td>\n",
       "      <td>0.3486</td>\n",
       "      <td>NaN</td>\n",
       "      <td>0.0000</td>\n",
       "      <td>Virgin America</td>\n",
       "      <td>NaN</td>\n",
       "      <td>jnardino</td>\n",
       "      <td>NaN</td>\n",
       "      <td>0</td>\n",
       "      <td>@VirginAmerica plus you've added commercials t...</td>\n",
       "      <td>NaN</td>\n",
       "      <td>2015-02-24 11:15:59 -0800</td>\n",
       "      <td>NaN</td>\n",
       "      <td>Pacific Time (US &amp; Canada)</td>\n",
       "      <td>you ve added commercials to the experience tacky</td>\n",
       "    </tr>\n",
       "    <tr>\n",
       "      <th>3</th>\n",
       "      <td>570301031407624196</td>\n",
       "      <td>0</td>\n",
       "      <td>1.0000</td>\n",
       "      <td>Bad Flight</td>\n",
       "      <td>0.7033</td>\n",
       "      <td>Virgin America</td>\n",
       "      <td>NaN</td>\n",
       "      <td>jnardino</td>\n",
       "      <td>NaN</td>\n",
       "      <td>0</td>\n",
       "      <td>@VirginAmerica it's really aggressive to blast...</td>\n",
       "      <td>NaN</td>\n",
       "      <td>2015-02-24 11:15:36 -0800</td>\n",
       "      <td>NaN</td>\n",
       "      <td>Pacific Time (US &amp; Canada)</td>\n",
       "      <td>s really aggressive to blast obnoxious enterta...</td>\n",
       "    </tr>\n",
       "    <tr>\n",
       "      <th>4</th>\n",
       "      <td>570300817074462722</td>\n",
       "      <td>0</td>\n",
       "      <td>1.0000</td>\n",
       "      <td>Can't Tell</td>\n",
       "      <td>1.0000</td>\n",
       "      <td>Virgin America</td>\n",
       "      <td>NaN</td>\n",
       "      <td>jnardino</td>\n",
       "      <td>NaN</td>\n",
       "      <td>0</td>\n",
       "      <td>@VirginAmerica and it's a really big bad thing...</td>\n",
       "      <td>NaN</td>\n",
       "      <td>2015-02-24 11:14:45 -0800</td>\n",
       "      <td>NaN</td>\n",
       "      <td>Pacific Time (US &amp; Canada)</td>\n",
       "      <td>it s a really big bad thing about it</td>\n",
       "    </tr>\n",
       "    <tr>\n",
       "      <th>5</th>\n",
       "      <td>570300767074181121</td>\n",
       "      <td>0</td>\n",
       "      <td>1.0000</td>\n",
       "      <td>Can't Tell</td>\n",
       "      <td>0.6842</td>\n",
       "      <td>Virgin America</td>\n",
       "      <td>NaN</td>\n",
       "      <td>jnardino</td>\n",
       "      <td>NaN</td>\n",
       "      <td>0</td>\n",
       "      <td>@VirginAmerica seriously would pay $30 a fligh...</td>\n",
       "      <td>NaN</td>\n",
       "      <td>2015-02-24 11:14:33 -0800</td>\n",
       "      <td>NaN</td>\n",
       "      <td>Pacific Time (US &amp; Canada)</td>\n",
       "      <td>would pay a flight for seats that didn t have ...</td>\n",
       "    </tr>\n",
       "    <tr>\n",
       "      <th>6</th>\n",
       "      <td>570300616901320704</td>\n",
       "      <td>1</td>\n",
       "      <td>0.6745</td>\n",
       "      <td>NaN</td>\n",
       "      <td>0.0000</td>\n",
       "      <td>Virgin America</td>\n",
       "      <td>NaN</td>\n",
       "      <td>cjmcginnis</td>\n",
       "      <td>NaN</td>\n",
       "      <td>0</td>\n",
       "      <td>@VirginAmerica yes, nearly every time I fly VX...</td>\n",
       "      <td>NaN</td>\n",
       "      <td>2015-02-24 11:13:57 -0800</td>\n",
       "      <td>San Francisco CA</td>\n",
       "      <td>Pacific Time (US &amp; Canada)</td>\n",
       "      <td>nearly every time i fly vx this ear worm won t...</td>\n",
       "    </tr>\n",
       "  </tbody>\n",
       "</table>\n",
       "</div>"
      ],
      "text/plain": [
       "             tweet_id  airline_sentiment  airline_sentiment_confidence  \\\n",
       "1  570301130888122368                  1                        0.3486   \n",
       "3  570301031407624196                  0                        1.0000   \n",
       "4  570300817074462722                  0                        1.0000   \n",
       "5  570300767074181121                  0                        1.0000   \n",
       "6  570300616901320704                  1                        0.6745   \n",
       "\n",
       "  negativereason  negativereason_confidence         airline  \\\n",
       "1            NaN                     0.0000  Virgin America   \n",
       "3     Bad Flight                     0.7033  Virgin America   \n",
       "4     Can't Tell                     1.0000  Virgin America   \n",
       "5     Can't Tell                     0.6842  Virgin America   \n",
       "6            NaN                     0.0000  Virgin America   \n",
       "\n",
       "  airline_sentiment_gold        name negativereason_gold  retweet_count  \\\n",
       "1                    NaN    jnardino                 NaN              0   \n",
       "3                    NaN    jnardino                 NaN              0   \n",
       "4                    NaN    jnardino                 NaN              0   \n",
       "5                    NaN    jnardino                 NaN              0   \n",
       "6                    NaN  cjmcginnis                 NaN              0   \n",
       "\n",
       "                                                text tweet_coord  \\\n",
       "1  @VirginAmerica plus you've added commercials t...         NaN   \n",
       "3  @VirginAmerica it's really aggressive to blast...         NaN   \n",
       "4  @VirginAmerica and it's a really big bad thing...         NaN   \n",
       "5  @VirginAmerica seriously would pay $30 a fligh...         NaN   \n",
       "6  @VirginAmerica yes, nearly every time I fly VX...         NaN   \n",
       "\n",
       "               tweet_created    tweet_location               user_timezone  \\\n",
       "1  2015-02-24 11:15:59 -0800               NaN  Pacific Time (US & Canada)   \n",
       "3  2015-02-24 11:15:36 -0800               NaN  Pacific Time (US & Canada)   \n",
       "4  2015-02-24 11:14:45 -0800               NaN  Pacific Time (US & Canada)   \n",
       "5  2015-02-24 11:14:33 -0800               NaN  Pacific Time (US & Canada)   \n",
       "6  2015-02-24 11:13:57 -0800  San Francisco CA  Pacific Time (US & Canada)   \n",
       "\n",
       "                                       cleaned_tweet  \n",
       "1   you ve added commercials to the experience tacky  \n",
       "3  s really aggressive to blast obnoxious enterta...  \n",
       "4               it s a really big bad thing about it  \n",
       "5  would pay a flight for seats that didn t have ...  \n",
       "6  nearly every time i fly vx this ear worm won t...  "
      ]
     },
     "execution_count": 8,
     "metadata": {},
     "output_type": "execute_result"
    }
   ],
   "source": [
    "df['airline_sentiment'] = df['airline_sentiment'].apply(lambda x: 1 if x =='positive' else 0)\n",
    "df.head()"
   ]
  },
  {
   "cell_type": "code",
   "execution_count": 9,
   "id": "e304fe80",
   "metadata": {
    "execution": {
     "iopub.execute_input": "2022-07-10T16:30:15.657470Z",
     "iopub.status.busy": "2022-07-10T16:30:15.656533Z",
     "iopub.status.idle": "2022-07-10T16:30:38.637135Z",
     "shell.execute_reply": "2022-07-10T16:30:38.636671Z",
     "shell.execute_reply.started": "2022-07-10T15:26:34.802726Z"
    },
    "papermill": {
     "duration": 23.009128,
     "end_time": "2022-07-10T16:30:38.637266",
     "exception": false,
     "start_time": "2022-07-10T16:30:15.628138",
     "status": "completed"
    },
    "tags": []
   },
   "outputs": [
    {
     "data": {
      "text/html": [
       "<div>\n",
       "<style scoped>\n",
       "    .dataframe tbody tr th:only-of-type {\n",
       "        vertical-align: middle;\n",
       "    }\n",
       "\n",
       "    .dataframe tbody tr th {\n",
       "        vertical-align: top;\n",
       "    }\n",
       "\n",
       "    .dataframe thead th {\n",
       "        text-align: right;\n",
       "    }\n",
       "</style>\n",
       "<table border=\"1\" class=\"dataframe\">\n",
       "  <thead>\n",
       "    <tr style=\"text-align: right;\">\n",
       "      <th></th>\n",
       "      <th>tweet_id</th>\n",
       "      <th>airline_sentiment</th>\n",
       "      <th>airline_sentiment_confidence</th>\n",
       "      <th>negativereason</th>\n",
       "      <th>negativereason_confidence</th>\n",
       "      <th>airline</th>\n",
       "      <th>airline_sentiment_gold</th>\n",
       "      <th>name</th>\n",
       "      <th>negativereason_gold</th>\n",
       "      <th>retweet_count</th>\n",
       "      <th>text</th>\n",
       "      <th>tweet_coord</th>\n",
       "      <th>tweet_created</th>\n",
       "      <th>tweet_location</th>\n",
       "      <th>user_timezone</th>\n",
       "      <th>cleaned_tweet</th>\n",
       "    </tr>\n",
       "  </thead>\n",
       "  <tbody>\n",
       "    <tr>\n",
       "      <th>0</th>\n",
       "      <td>570301130888122368</td>\n",
       "      <td>1</td>\n",
       "      <td>0.3486</td>\n",
       "      <td>NaN</td>\n",
       "      <td>0.0000</td>\n",
       "      <td>Virgin America</td>\n",
       "      <td>NaN</td>\n",
       "      <td>jnardino</td>\n",
       "      <td>NaN</td>\n",
       "      <td>0</td>\n",
       "      <td>@VirginAmerica plus you've added commercials t...</td>\n",
       "      <td>NaN</td>\n",
       "      <td>2015-02-24 11:15:59 -0800</td>\n",
       "      <td>NaN</td>\n",
       "      <td>Pacific Time (US &amp; Canada)</td>\n",
       "      <td>added commercials experience tacky</td>\n",
       "    </tr>\n",
       "    <tr>\n",
       "      <th>1</th>\n",
       "      <td>570301031407624196</td>\n",
       "      <td>0</td>\n",
       "      <td>1.0000</td>\n",
       "      <td>Bad Flight</td>\n",
       "      <td>0.7033</td>\n",
       "      <td>Virgin America</td>\n",
       "      <td>NaN</td>\n",
       "      <td>jnardino</td>\n",
       "      <td>NaN</td>\n",
       "      <td>0</td>\n",
       "      <td>@VirginAmerica it's really aggressive to blast...</td>\n",
       "      <td>NaN</td>\n",
       "      <td>2015-02-24 11:15:36 -0800</td>\n",
       "      <td>NaN</td>\n",
       "      <td>Pacific Time (US &amp; Canada)</td>\n",
       "      <td>really aggressive blast obnoxious entertainmen...</td>\n",
       "    </tr>\n",
       "    <tr>\n",
       "      <th>2</th>\n",
       "      <td>570300817074462722</td>\n",
       "      <td>0</td>\n",
       "      <td>1.0000</td>\n",
       "      <td>Can't Tell</td>\n",
       "      <td>1.0000</td>\n",
       "      <td>Virgin America</td>\n",
       "      <td>NaN</td>\n",
       "      <td>jnardino</td>\n",
       "      <td>NaN</td>\n",
       "      <td>0</td>\n",
       "      <td>@VirginAmerica and it's a really big bad thing...</td>\n",
       "      <td>NaN</td>\n",
       "      <td>2015-02-24 11:14:45 -0800</td>\n",
       "      <td>NaN</td>\n",
       "      <td>Pacific Time (US &amp; Canada)</td>\n",
       "      <td>really big bad thing</td>\n",
       "    </tr>\n",
       "    <tr>\n",
       "      <th>3</th>\n",
       "      <td>570300767074181121</td>\n",
       "      <td>0</td>\n",
       "      <td>1.0000</td>\n",
       "      <td>Can't Tell</td>\n",
       "      <td>0.6842</td>\n",
       "      <td>Virgin America</td>\n",
       "      <td>NaN</td>\n",
       "      <td>jnardino</td>\n",
       "      <td>NaN</td>\n",
       "      <td>0</td>\n",
       "      <td>@VirginAmerica seriously would pay $30 a fligh...</td>\n",
       "      <td>NaN</td>\n",
       "      <td>2015-02-24 11:14:33 -0800</td>\n",
       "      <td>NaN</td>\n",
       "      <td>Pacific Time (US &amp; Canada)</td>\n",
       "      <td>would pay flight seats playing really bad thin...</td>\n",
       "    </tr>\n",
       "    <tr>\n",
       "      <th>4</th>\n",
       "      <td>570300616901320704</td>\n",
       "      <td>1</td>\n",
       "      <td>0.6745</td>\n",
       "      <td>NaN</td>\n",
       "      <td>0.0000</td>\n",
       "      <td>Virgin America</td>\n",
       "      <td>NaN</td>\n",
       "      <td>cjmcginnis</td>\n",
       "      <td>NaN</td>\n",
       "      <td>0</td>\n",
       "      <td>@VirginAmerica yes, nearly every time I fly VX...</td>\n",
       "      <td>NaN</td>\n",
       "      <td>2015-02-24 11:13:57 -0800</td>\n",
       "      <td>San Francisco CA</td>\n",
       "      <td>Pacific Time (US &amp; Canada)</td>\n",
       "      <td>nearly every time fly vx ear worm go away</td>\n",
       "    </tr>\n",
       "  </tbody>\n",
       "</table>\n",
       "</div>"
      ],
      "text/plain": [
       "             tweet_id  airline_sentiment  airline_sentiment_confidence  \\\n",
       "0  570301130888122368                  1                        0.3486   \n",
       "1  570301031407624196                  0                        1.0000   \n",
       "2  570300817074462722                  0                        1.0000   \n",
       "3  570300767074181121                  0                        1.0000   \n",
       "4  570300616901320704                  1                        0.6745   \n",
       "\n",
       "  negativereason  negativereason_confidence         airline  \\\n",
       "0            NaN                     0.0000  Virgin America   \n",
       "1     Bad Flight                     0.7033  Virgin America   \n",
       "2     Can't Tell                     1.0000  Virgin America   \n",
       "3     Can't Tell                     0.6842  Virgin America   \n",
       "4            NaN                     0.0000  Virgin America   \n",
       "\n",
       "  airline_sentiment_gold        name negativereason_gold  retweet_count  \\\n",
       "0                    NaN    jnardino                 NaN              0   \n",
       "1                    NaN    jnardino                 NaN              0   \n",
       "2                    NaN    jnardino                 NaN              0   \n",
       "3                    NaN    jnardino                 NaN              0   \n",
       "4                    NaN  cjmcginnis                 NaN              0   \n",
       "\n",
       "                                                text tweet_coord  \\\n",
       "0  @VirginAmerica plus you've added commercials t...         NaN   \n",
       "1  @VirginAmerica it's really aggressive to blast...         NaN   \n",
       "2  @VirginAmerica and it's a really big bad thing...         NaN   \n",
       "3  @VirginAmerica seriously would pay $30 a fligh...         NaN   \n",
       "4  @VirginAmerica yes, nearly every time I fly VX...         NaN   \n",
       "\n",
       "               tweet_created    tweet_location               user_timezone  \\\n",
       "0  2015-02-24 11:15:59 -0800               NaN  Pacific Time (US & Canada)   \n",
       "1  2015-02-24 11:15:36 -0800               NaN  Pacific Time (US & Canada)   \n",
       "2  2015-02-24 11:14:45 -0800               NaN  Pacific Time (US & Canada)   \n",
       "3  2015-02-24 11:14:33 -0800               NaN  Pacific Time (US & Canada)   \n",
       "4  2015-02-24 11:13:57 -0800  San Francisco CA  Pacific Time (US & Canada)   \n",
       "\n",
       "                                       cleaned_tweet  \n",
       "0                 added commercials experience tacky  \n",
       "1  really aggressive blast obnoxious entertainmen...  \n",
       "2                               really big bad thing  \n",
       "3  would pay flight seats playing really bad thin...  \n",
       "4          nearly every time fly vx ear worm go away  "
      ]
     },
     "execution_count": 9,
     "metadata": {},
     "output_type": "execute_result"
    }
   ],
   "source": [
    "# Cleaning the tweets, removing punctuation marks\n",
    "df['cleaned_tweet'] = df['cleaned_tweet'].apply(text_process)\n",
    "df.reset_index(drop=True, inplace = True)\n",
    "df.head()"
   ]
  },
  {
   "cell_type": "code",
   "execution_count": 10,
   "id": "a2aa08b6",
   "metadata": {
    "execution": {
     "iopub.execute_input": "2022-07-10T16:30:38.693948Z",
     "iopub.status.busy": "2022-07-10T16:30:38.693147Z",
     "iopub.status.idle": "2022-07-10T16:30:38.696984Z",
     "shell.execute_reply": "2022-07-10T16:30:38.697360Z",
     "shell.execute_reply.started": "2022-07-10T15:30:34.303387Z"
    },
    "papermill": {
     "duration": 0.034052,
     "end_time": "2022-07-10T16:30:38.697491",
     "exception": false,
     "start_time": "2022-07-10T16:30:38.663439",
     "status": "completed"
    },
    "tags": []
   },
   "outputs": [
    {
     "data": {
      "text/plain": [
       "array([1, 0])"
      ]
     },
     "execution_count": 10,
     "metadata": {},
     "output_type": "execute_result"
    }
   ],
   "source": [
    "df['airline_sentiment'].unique()"
   ]
  },
  {
   "cell_type": "markdown",
   "id": "3347353c",
   "metadata": {
    "papermill": {
     "duration": 0.02479,
     "end_time": "2022-07-10T16:30:38.746911",
     "exception": false,
     "start_time": "2022-07-10T16:30:38.722121",
     "status": "completed"
    },
    "tags": []
   },
   "source": [
    "<div style=\"color:white;\n",
    "           display:fill;\n",
    "           border-radius:5px;\n",
    "           font-size:110%;\n",
    "           font-family:cursive;\n",
    "           letter-spacing:0.5px;\n",
    "           background-color:powderblue;\n",
    "           color:Black;\n",
    "           font-family:Arial\n",
    "           \">\n",
    "<h1 style=\"text-align:center;font-weight: bold\"> Creating tokens for tweets </h1>\n",
    "</div>\n"
   ]
  },
  {
   "cell_type": "code",
   "execution_count": 11,
   "id": "8501c7bf",
   "metadata": {
    "execution": {
     "iopub.execute_input": "2022-07-10T16:30:38.818438Z",
     "iopub.status.busy": "2022-07-10T16:30:38.813247Z",
     "iopub.status.idle": "2022-07-10T16:30:38.976324Z",
     "shell.execute_reply": "2022-07-10T16:30:38.975835Z",
     "shell.execute_reply.started": "2022-07-10T15:43:25.383745Z"
    },
    "papermill": {
     "duration": 0.205148,
     "end_time": "2022-07-10T16:30:38.976436",
     "exception": false,
     "start_time": "2022-07-10T16:30:38.771288",
     "status": "completed"
    },
    "tags": []
   },
   "outputs": [],
   "source": [
    "# Creating object of TF-IDF vectorizer\n",
    "vectorizer = TfidfVectorizer(use_idf=True, lowercase=True)\n",
    "X_tf_idf= vectorizer.fit_transform(df.cleaned_tweet)"
   ]
  },
  {
   "cell_type": "markdown",
   "id": "ccee0dca",
   "metadata": {
    "papermill": {
     "duration": 0.024339,
     "end_time": "2022-07-10T16:30:39.026360",
     "exception": false,
     "start_time": "2022-07-10T16:30:39.002021",
     "status": "completed"
    },
    "tags": []
   },
   "source": [
    "<div style=\"color:white;\n",
    "           display:fill;\n",
    "           border-radius:5px;\n",
    "           font-size:110%;\n",
    "           font-family:cursive;\n",
    "           letter-spacing:0.5px;\n",
    "           background-color:powderblue;\n",
    "           color:Black;\n",
    "           font-family:Arial\n",
    "           \">\n",
    "<h1 style=\"text-align:center;font-weight: bold\"> Base SVM model </h1>\n",
    "</div>\n"
   ]
  },
  {
   "cell_type": "code",
   "execution_count": 12,
   "id": "aae683be",
   "metadata": {
    "execution": {
     "iopub.execute_input": "2022-07-10T16:30:39.081741Z",
     "iopub.status.busy": "2022-07-10T16:30:39.080933Z",
     "iopub.status.idle": "2022-07-10T16:30:39.085579Z",
     "shell.execute_reply": "2022-07-10T16:30:39.085103Z",
     "shell.execute_reply.started": "2022-07-10T15:43:44.017099Z"
    },
    "papermill": {
     "duration": 0.034757,
     "end_time": "2022-07-10T16:30:39.085699",
     "exception": false,
     "start_time": "2022-07-10T16:30:39.050942",
     "status": "completed"
    },
    "tags": []
   },
   "outputs": [],
   "source": [
    "x_train, x_test, y_train, y_test = train_test_split(X_tf_idf, df['airline_sentiment'], random_state=42)"
   ]
  },
  {
   "cell_type": "code",
   "execution_count": 13,
   "id": "6f65ccfa",
   "metadata": {
    "execution": {
     "iopub.execute_input": "2022-07-10T16:30:39.140677Z",
     "iopub.status.busy": "2022-07-10T16:30:39.139914Z",
     "iopub.status.idle": "2022-07-10T16:31:17.102862Z",
     "shell.execute_reply": "2022-07-10T16:31:17.102428Z",
     "shell.execute_reply.started": "2022-07-10T16:01:12.378648Z"
    },
    "papermill": {
     "duration": 37.992608,
     "end_time": "2022-07-10T16:31:17.103015",
     "exception": false,
     "start_time": "2022-07-10T16:30:39.110407",
     "status": "completed"
    },
    "tags": []
   },
   "outputs": [
    {
     "name": "stdout",
     "output_type": "stream",
     "text": [
      "Train confusion matrix is: \n",
      "[[6824   31]\n",
      " [ 151 1649]]\n",
      "\n",
      "Test confusion matrix is: \n",
      "[[2291   32]\n",
      " [ 296  267]]\n",
      "\n",
      "              precision    recall  f1-score   support\n",
      "\n",
      "           0       0.89      0.99      0.93      2323\n",
      "           1       0.89      0.47      0.62       563\n",
      "\n",
      "    accuracy                           0.89      2886\n",
      "   macro avg       0.89      0.73      0.78      2886\n",
      "weighted avg       0.89      0.89      0.87      2886\n",
      "\n",
      "\n",
      "Train accuracy score:  0.9789716926632005\n",
      "Test accuracy score:  0.8863478863478863\n",
      "\n",
      "\n"
     ]
    },
    {
     "data": {
      "image/png": "[encoded data removed]",
      "text/plain": [
       "<Figure size 432x288 with 1 Axes>"
      ]
     },
     "metadata": {},
     "output_type": "display_data"
    }
   ],
   "source": [
    "SVM = svm.SVC( probability=True)\n",
    "s_train_accuracy, s_test_accuracy = check_scores(SVM,x_train, x_test, y_train, y_test)\n"
   ]
  },
  {
   "cell_type": "markdown",
   "id": "5a223404",
   "metadata": {
    "papermill": {
     "duration": 0.025885,
     "end_time": "2022-07-10T16:31:17.158929",
     "exception": false,
     "start_time": "2022-07-10T16:31:17.133044",
     "status": "completed"
    },
    "tags": []
   },
   "source": [
    "> With increase in recall, precision decreases."
   ]
  },
  {
   "cell_type": "markdown",
   "id": "a4b92a50",
   "metadata": {
    "papermill": {
     "duration": 0.026261,
     "end_time": "2022-07-10T16:31:17.211177",
     "exception": false,
     "start_time": "2022-07-10T16:31:17.184916",
     "status": "completed"
    },
    "tags": []
   },
   "source": [
    "<div style=\"color:white;\n",
    "           display:fill;\n",
    "           border-radius:5px;\n",
    "           font-size:110%;\n",
    "           font-family:cursive;\n",
    "           letter-spacing:0.5px;\n",
    "           background-color:powderblue;\n",
    "           color:Black;\n",
    "           font-family:Arial\n",
    "           \">\n",
    "<h1 style=\"text-align:center;font-weight: bold\"> After optimizing the hyperparameters for SVM </h1>\n",
    "</div>\n"
   ]
  },
  {
   "cell_type": "code",
   "execution_count": 14,
   "id": "6bced49d",
   "metadata": {
    "execution": {
     "iopub.execute_input": "2022-07-10T16:31:17.270540Z",
     "iopub.status.busy": "2022-07-10T16:31:17.268977Z",
     "iopub.status.idle": "2022-07-10T16:31:17.271182Z",
     "shell.execute_reply": "2022-07-10T16:31:17.271590Z",
     "shell.execute_reply.started": "2022-07-10T16:04:07.278813Z"
    },
    "papermill": {
     "duration": 0.034871,
     "end_time": "2022-07-10T16:31:17.271709",
     "exception": false,
     "start_time": "2022-07-10T16:31:17.236838",
     "status": "completed"
    },
    "tags": []
   },
   "outputs": [],
   "source": [
    "def grid_search(model, parameters, X_train, Y_train):\n",
    "  #Doing a grid\n",
    "  grid = GridSearchCV(estimator=model,\n",
    "                       param_grid = parameters,\n",
    "                       cv = 2, verbose=2, scoring='roc_auc')\n",
    "  #Fitting the grid \n",
    "  grid.fit(X_train,Y_train)\n",
    "  print()\n",
    "  print()\n",
    "  # Best model found using grid search\n",
    "  optimal_model = grid.best_estimator_\n",
    "  print('Best parameters are: ')\n",
    "  print( grid.best_params_)\n",
    "\n",
    "  return optimal_model"
   ]
  },
  {
   "cell_type": "code",
   "execution_count": 15,
   "id": "747a0c30",
   "metadata": {
    "execution": {
     "iopub.execute_input": "2022-07-10T16:31:17.328553Z",
     "iopub.status.busy": "2022-07-10T16:31:17.327772Z",
     "iopub.status.idle": "2022-07-10T16:35:49.968943Z",
     "shell.execute_reply": "2022-07-10T16:35:49.970320Z",
     "shell.execute_reply.started": "2022-07-10T16:04:09.642746Z"
    },
    "papermill": {
     "duration": 272.673319,
     "end_time": "2022-07-10T16:35:49.970730",
     "exception": false,
     "start_time": "2022-07-10T16:31:17.297411",
     "status": "completed"
    },
    "tags": []
   },
   "outputs": [
    {
     "name": "stdout",
     "output_type": "stream",
     "text": [
      "Fitting 2 folds for each of 18 candidates, totalling 36 fits\n",
      "[CV] C=0.1, gamma=scale, kernel=linear ...............................\n"
     ]
    },
    {
     "name": "stderr",
     "output_type": "stream",
     "text": [
      "[Parallel(n_jobs=1)]: Using backend SequentialBackend with 1 concurrent workers.\n"
     ]
    },
    {
     "name": "stdout",
     "output_type": "stream",
     "text": [
      "[CV] ................ C=0.1, gamma=scale, kernel=linear, total=   5.5s\n",
      "[CV] C=0.1, gamma=scale, kernel=linear ...............................\n"
     ]
    },
    {
     "name": "stderr",
     "output_type": "stream",
     "text": [
      "[Parallel(n_jobs=1)]: Done   1 out of   1 | elapsed:    5.5s remaining:    0.0s\n"
     ]
    },
    {
     "name": "stdout",
     "output_type": "stream",
     "text": [
      "[CV] ................ C=0.1, gamma=scale, kernel=linear, total=   5.3s\n",
      "[CV] C=0.1, gamma=scale, kernel=rbf ..................................\n",
      "[CV] ................... C=0.1, gamma=scale, kernel=rbf, total=   9.1s\n",
      "[CV] C=0.1, gamma=scale, kernel=rbf ..................................\n",
      "[CV] ................... C=0.1, gamma=scale, kernel=rbf, total=   8.8s\n",
      "[CV] C=0.1, gamma=scale, kernel=sigmoid ..............................\n",
      "[CV] ............... C=0.1, gamma=scale, kernel=sigmoid, total=   5.5s\n",
      "[CV] C=0.1, gamma=scale, kernel=sigmoid ..............................\n",
      "[CV] ............... C=0.1, gamma=scale, kernel=sigmoid, total=   5.3s\n",
      "[CV] C=0.1, gamma=auto, kernel=linear ................................\n",
      "[CV] ................. C=0.1, gamma=auto, kernel=linear, total=   5.7s\n",
      "[CV] C=0.1, gamma=auto, kernel=linear ................................\n",
      "[CV] ................. C=0.1, gamma=auto, kernel=linear, total=   5.4s\n",
      "[CV] C=0.1, gamma=auto, kernel=rbf ...................................\n",
      "[CV] .................... C=0.1, gamma=auto, kernel=rbf, total=   4.4s\n",
      "[CV] C=0.1, gamma=auto, kernel=rbf ...................................\n",
      "[CV] .................... C=0.1, gamma=auto, kernel=rbf, total=   4.7s\n",
      "[CV] C=0.1, gamma=auto, kernel=sigmoid ...............................\n",
      "[CV] ................ C=0.1, gamma=auto, kernel=sigmoid, total=   4.0s\n",
      "[CV] C=0.1, gamma=auto, kernel=sigmoid ...............................\n",
      "[CV] ................ C=0.1, gamma=auto, kernel=sigmoid, total=   4.2s\n",
      "[CV] C=1, gamma=scale, kernel=linear .................................\n",
      "[CV] .................. C=1, gamma=scale, kernel=linear, total=   6.0s\n",
      "[CV] C=1, gamma=scale, kernel=linear .................................\n",
      "[CV] .................. C=1, gamma=scale, kernel=linear, total=   6.0s\n",
      "[CV] C=1, gamma=scale, kernel=rbf ....................................\n",
      "[CV] ..................... C=1, gamma=scale, kernel=rbf, total=  10.9s\n",
      "[CV] C=1, gamma=scale, kernel=rbf ....................................\n",
      "[CV] ..................... C=1, gamma=scale, kernel=rbf, total=  11.3s\n",
      "[CV] C=1, gamma=scale, kernel=sigmoid ................................\n",
      "[CV] ................. C=1, gamma=scale, kernel=sigmoid, total=   6.0s\n",
      "[CV] C=1, gamma=scale, kernel=sigmoid ................................\n",
      "[CV] ................. C=1, gamma=scale, kernel=sigmoid, total=   5.7s\n",
      "[CV] C=1, gamma=auto, kernel=linear ..................................\n",
      "[CV] ................... C=1, gamma=auto, kernel=linear, total=   6.0s\n",
      "[CV] C=1, gamma=auto, kernel=linear ..................................\n",
      "[CV] ................... C=1, gamma=auto, kernel=linear, total=   5.9s\n",
      "[CV] C=1, gamma=auto, kernel=rbf .....................................\n",
      "[CV] ...................... C=1, gamma=auto, kernel=rbf, total=   5.1s\n",
      "[CV] C=1, gamma=auto, kernel=rbf .....................................\n",
      "[CV] ...................... C=1, gamma=auto, kernel=rbf, total=   5.3s\n",
      "[CV] C=1, gamma=auto, kernel=sigmoid .................................\n",
      "[CV] .................. C=1, gamma=auto, kernel=sigmoid, total=   4.6s\n",
      "[CV] C=1, gamma=auto, kernel=sigmoid .................................\n",
      "[CV] .................. C=1, gamma=auto, kernel=sigmoid, total=   4.7s\n",
      "[CV] C=10, gamma=scale, kernel=linear ................................\n",
      "[CV] ................. C=10, gamma=scale, kernel=linear, total=   6.2s\n",
      "[CV] C=10, gamma=scale, kernel=linear ................................\n",
      "[CV] ................. C=10, gamma=scale, kernel=linear, total=   6.4s\n",
      "[CV] C=10, gamma=scale, kernel=rbf ...................................\n",
      "[CV] .................... C=10, gamma=scale, kernel=rbf, total=  11.5s\n",
      "[CV] C=10, gamma=scale, kernel=rbf ...................................\n",
      "[CV] .................... C=10, gamma=scale, kernel=rbf, total=  11.1s\n",
      "[CV] C=10, gamma=scale, kernel=sigmoid ...............................\n",
      "[CV] ................ C=10, gamma=scale, kernel=sigmoid, total=   6.6s\n",
      "[CV] C=10, gamma=scale, kernel=sigmoid ...............................\n",
      "[CV] ................ C=10, gamma=scale, kernel=sigmoid, total=   7.4s\n",
      "[CV] C=10, gamma=auto, kernel=linear .................................\n",
      "[CV] .................. C=10, gamma=auto, kernel=linear, total=   5.9s\n",
      "[CV] C=10, gamma=auto, kernel=linear .................................\n",
      "[CV] .................. C=10, gamma=auto, kernel=linear, total=   6.0s\n",
      "[CV] C=10, gamma=auto, kernel=rbf ....................................\n",
      "[CV] ..................... C=10, gamma=auto, kernel=rbf, total=   7.0s\n",
      "[CV] C=10, gamma=auto, kernel=rbf ....................................\n",
      "[CV] ..................... C=10, gamma=auto, kernel=rbf, total=   6.4s\n",
      "[CV] C=10, gamma=auto, kernel=sigmoid ................................\n",
      "[CV] ................. C=10, gamma=auto, kernel=sigmoid, total=   5.6s\n",
      "[CV] C=10, gamma=auto, kernel=sigmoid ................................\n",
      "[CV] ................. C=10, gamma=auto, kernel=sigmoid, total=   5.4s\n"
     ]
    },
    {
     "name": "stderr",
     "output_type": "stream",
     "text": [
      "[Parallel(n_jobs=1)]: Done  36 out of  36 | elapsed:  3.8min finished\n"
     ]
    },
    {
     "name": "stdout",
     "output_type": "stream",
     "text": [
      "\n",
      "\n",
      "Best parameters are: \n",
      "{'C': 10, 'gamma': 'scale', 'kernel': 'rbf'}\n"
     ]
    }
   ],
   "source": [
    "# Tuning the hyperparameters\n",
    "parameters ={\n",
    "    \"C\":[0.1,1,10],\n",
    "    \"kernel\":['linear', 'rbf', 'sigmoid'],\n",
    "    \"gamma\":['scale', 'auto']\n",
    "}\n",
    "\n",
    "\n",
    "\n",
    "svm_optimal = grid_search(svm.SVC(probability=True), parameters,x_train, y_train)"
   ]
  },
  {
   "cell_type": "code",
   "execution_count": 16,
   "id": "5d2aca8d",
   "metadata": {
    "execution": {
     "iopub.execute_input": "2022-07-10T16:35:50.158884Z",
     "iopub.status.busy": "2022-07-10T16:35:50.156981Z",
     "iopub.status.idle": "2022-07-10T16:36:42.557874Z",
     "shell.execute_reply": "2022-07-10T16:36:42.557169Z",
     "shell.execute_reply.started": "2022-07-10T16:17:43.377995Z"
    },
    "papermill": {
     "duration": 52.50694,
     "end_time": "2022-07-10T16:36:42.558067",
     "exception": false,
     "start_time": "2022-07-10T16:35:50.051127",
     "status": "completed"
    },
    "tags": []
   },
   "outputs": [
    {
     "name": "stdout",
     "output_type": "stream",
     "text": [
      "Train confusion matrix is: \n",
      "[[6829   26]\n",
      " [   5 1795]]\n",
      "\n",
      "Test confusion matrix is: \n",
      "[[2272   51]\n",
      " [ 245  318]]\n",
      "\n",
      "              precision    recall  f1-score   support\n",
      "\n",
      "           0       0.90      0.98      0.94      2323\n",
      "           1       0.86      0.56      0.68       563\n",
      "\n",
      "    accuracy                           0.90      2886\n",
      "   macro avg       0.88      0.77      0.81      2886\n",
      "weighted avg       0.89      0.90      0.89      2886\n",
      "\n",
      "\n",
      "Train accuracy score:  0.996418255343732\n",
      "Test accuracy score:  0.8974358974358975\n",
      "\n",
      "\n"
     ]
    },
    {
     "data": {
      "image/png": "[encoded data removed]",
      "text/plain": [
       "<Figure size 432x288 with 1 Axes>"
      ]
     },
     "metadata": {},
     "output_type": "display_data"
    }
   ],
   "source": [
    "so_train_accuracy, so_test_accuracy= check_scores(svm_optimal,x_train, x_test, y_train, y_test)"
   ]
  },
  {
   "cell_type": "markdown",
   "id": "bf160792",
   "metadata": {
    "papermill": {
     "duration": 0.042974,
     "end_time": "2022-07-10T16:36:42.645020",
     "exception": false,
     "start_time": "2022-07-10T16:36:42.602046",
     "status": "completed"
    },
    "tags": []
   },
   "source": [
    "> With increase in recall, preciison decreases which makes sense also."
   ]
  },
  {
   "cell_type": "markdown",
   "id": "543ba336",
   "metadata": {
    "papermill": {
     "duration": 0.043532,
     "end_time": "2022-07-10T16:36:42.732234",
     "exception": false,
     "start_time": "2022-07-10T16:36:42.688702",
     "status": "completed"
    },
    "tags": []
   },
   "source": [
    "<div style=\"color:white;\n",
    "           display:fill;\n",
    "           border-radius:5px;\n",
    "           font-size:110%;\n",
    "           font-family:cursive;\n",
    "           letter-spacing:0.5px;\n",
    "           background-color:powderblue;\n",
    "           color:Black;\n",
    "           font-family:Arial\n",
    "           \">\n",
    "<h1 style=\"text-align:center;font-weight: bold\"> Using Gaussian Naive Bayes\n",
    " </h1>\n",
    "</div>\n"
   ]
  },
  {
   "cell_type": "code",
   "execution_count": 17,
   "id": "b4053cdf",
   "metadata": {
    "execution": {
     "iopub.execute_input": "2022-07-10T16:36:42.823224Z",
     "iopub.status.busy": "2022-07-10T16:36:42.822557Z",
     "iopub.status.idle": "2022-07-10T16:36:47.256479Z",
     "shell.execute_reply": "2022-07-10T16:36:47.256007Z",
     "shell.execute_reply.started": "2022-07-10T16:21:15.530886Z"
    },
    "papermill": {
     "duration": 4.48153,
     "end_time": "2022-07-10T16:36:47.256606",
     "exception": false,
     "start_time": "2022-07-10T16:36:42.775076",
     "status": "completed"
    },
    "tags": []
   },
   "outputs": [
    {
     "name": "stdout",
     "output_type": "stream",
     "text": [
      "Train confusion matrix is: \n",
      "[[5543 1312]\n",
      " [   0 1800]]\n",
      "\n",
      "Test confusion matrix is: \n",
      "[[1623  700]\n",
      " [ 181  382]]\n",
      "\n",
      "              precision    recall  f1-score   support\n",
      "\n",
      "           0       0.90      0.70      0.79      2323\n",
      "           1       0.35      0.68      0.46       563\n",
      "\n",
      "    accuracy                           0.69      2886\n",
      "   macro avg       0.63      0.69      0.63      2886\n",
      "weighted avg       0.79      0.69      0.72      2886\n",
      "\n",
      "\n",
      "Train accuracy score:  0.8484113229347198\n",
      "Test accuracy score:  0.6947331947331947\n",
      "\n",
      "\n"
     ]
    },
    {
     "data": {
      "image/png": "[encoded data removed]",
      "text/plain": [
       "<Figure size 432x288 with 1 Axes>"
      ]
     },
     "metadata": {},
     "output_type": "display_data"
    }
   ],
   "source": [
    "g_train_accuracy, g_test_accuracy =check_scores(GaussianNB(),x_train.toarray(), x_test.toarray(), y_train, y_test)\n"
   ]
  },
  {
   "cell_type": "markdown",
   "id": "d8ca596e",
   "metadata": {
    "papermill": {
     "duration": 0.04459,
     "end_time": "2022-07-10T16:36:47.345277",
     "exception": false,
     "start_time": "2022-07-10T16:36:47.300687",
     "status": "completed"
    },
    "tags": []
   },
   "source": [
    "> It is interesting to see in Naive Bayes, we are getting linear relationship."
   ]
  },
  {
   "cell_type": "markdown",
   "id": "3e8513f0",
   "metadata": {
    "papermill": {
     "duration": 0.043487,
     "end_time": "2022-07-10T16:36:47.432791",
     "exception": false,
     "start_time": "2022-07-10T16:36:47.389304",
     "status": "completed"
    },
    "tags": []
   },
   "source": [
    "<div style=\"color:white;\n",
    "           display:fill;\n",
    "           border-radius:5px;\n",
    "           font-size:110%;\n",
    "           font-family:cursive;\n",
    "           letter-spacing:0.5px;\n",
    "           background-color:powderblue;\n",
    "           color:Black;\n",
    "           font-family:Arial\n",
    "           \">\n",
    "<h1 style=\"text-align:center;font-weight: bold\">Using Random Forest\n",
    " </h1>\n",
    "</div>\n",
    "\n"
   ]
  },
  {
   "cell_type": "code",
   "execution_count": 18,
   "id": "4f3bb8dd",
   "metadata": {
    "execution": {
     "iopub.execute_input": "2022-07-10T16:36:47.529859Z",
     "iopub.status.busy": "2022-07-10T16:36:47.528983Z",
     "iopub.status.idle": "2022-07-10T16:37:16.670948Z",
     "shell.execute_reply": "2022-07-10T16:37:16.671376Z",
     "shell.execute_reply.started": "2022-07-10T16:21:36.605532Z"
    },
    "papermill": {
     "duration": 29.195156,
     "end_time": "2022-07-10T16:37:16.671549",
     "exception": false,
     "start_time": "2022-07-10T16:36:47.476393",
     "status": "completed"
    },
    "tags": []
   },
   "outputs": [
    {
     "name": "stdout",
     "output_type": "stream",
     "text": [
      "Train confusion matrix is: \n",
      "[[6829   26]\n",
      " [   5 1795]]\n",
      "\n",
      "Test confusion matrix is: \n",
      "[[2215  108]\n",
      " [ 238  325]]\n",
      "\n",
      "              precision    recall  f1-score   support\n",
      "\n",
      "           0       0.90      0.95      0.93      2323\n",
      "           1       0.75      0.58      0.65       563\n",
      "\n",
      "    accuracy                           0.88      2886\n",
      "   macro avg       0.83      0.77      0.79      2886\n",
      "weighted avg       0.87      0.88      0.87      2886\n",
      "\n",
      "\n",
      "Train accuracy score:  0.996418255343732\n",
      "Test accuracy score:  0.8801108801108801\n",
      "\n",
      "\n"
     ]
    },
    {
     "data": {
      "image/png": "[encoded data removed]",
      "text/plain": [
       "<Figure size 432x288 with 1 Axes>"
      ]
     },
     "metadata": {},
     "output_type": "display_data"
    }
   ],
   "source": [
    "r_train_accuracy, r_test_accuracy= check_scores(RandomForestClassifier(random_state=0).fit(x_train, y_train), x_train,x_test,y_train,y_test)\n"
   ]
  },
  {
   "cell_type": "markdown",
   "id": "51185155",
   "metadata": {
    "papermill": {
     "duration": 0.046276,
     "end_time": "2022-07-10T16:37:16.762815",
     "exception": false,
     "start_time": "2022-07-10T16:37:16.716539",
     "status": "completed"
    },
    "tags": []
   },
   "source": [
    "<div style=\"color:white;\n",
    "           display:fill;\n",
    "           border-radius:5px;\n",
    "           font-size:110%;\n",
    "           font-family:cursive;\n",
    "           letter-spacing:0.5px;\n",
    "           background-color:powderblue;\n",
    "           color:Black;\n",
    "           font-family:Arial\n",
    "           \">\n",
    "<h1 style=\"text-align:center;font-weight: bold\">Final Results\n",
    " </h1>\n",
    "</div>\n",
    "\n"
   ]
  },
  {
   "cell_type": "code",
   "execution_count": 19,
   "id": "627841d6",
   "metadata": {
    "execution": {
     "iopub.execute_input": "2022-07-10T16:37:16.868451Z",
     "iopub.status.busy": "2022-07-10T16:37:16.867711Z",
     "iopub.status.idle": "2022-07-10T16:37:16.873915Z",
     "shell.execute_reply": "2022-07-10T16:37:16.873276Z",
     "shell.execute_reply.started": "2022-07-10T16:22:30.628592Z"
    },
    "papermill": {
     "duration": 0.065066,
     "end_time": "2022-07-10T16:37:16.874060",
     "exception": false,
     "start_time": "2022-07-10T16:37:16.808994",
     "status": "completed"
    },
    "tags": []
   },
   "outputs": [
    {
     "data": {
      "text/html": [
       "<div>\n",
       "<style scoped>\n",
       "    .dataframe tbody tr th:only-of-type {\n",
       "        vertical-align: middle;\n",
       "    }\n",
       "\n",
       "    .dataframe tbody tr th {\n",
       "        vertical-align: top;\n",
       "    }\n",
       "\n",
       "    .dataframe thead th {\n",
       "        text-align: right;\n",
       "    }\n",
       "</style>\n",
       "<table border=\"1\" class=\"dataframe\">\n",
       "  <thead>\n",
       "    <tr style=\"text-align: right;\">\n",
       "      <th></th>\n",
       "      <th>Train Accuracy</th>\n",
       "      <th>Test Accuracy</th>\n",
       "    </tr>\n",
       "    <tr>\n",
       "      <th>Model Name</th>\n",
       "      <th></th>\n",
       "      <th></th>\n",
       "    </tr>\n",
       "  </thead>\n",
       "  <tbody>\n",
       "    <tr>\n",
       "      <th>Random Forest</th>\n",
       "      <td>0.996418</td>\n",
       "      <td>0.880111</td>\n",
       "    </tr>\n",
       "    <tr>\n",
       "      <th>Gaussian Naive Bayes</th>\n",
       "      <td>0.848411</td>\n",
       "      <td>0.694733</td>\n",
       "    </tr>\n",
       "    <tr>\n",
       "      <th>SVM</th>\n",
       "      <td>0.978972</td>\n",
       "      <td>0.886348</td>\n",
       "    </tr>\n",
       "    <tr>\n",
       "      <th>SVM Optimized</th>\n",
       "      <td>0.996418</td>\n",
       "      <td>0.897436</td>\n",
       "    </tr>\n",
       "  </tbody>\n",
       "</table>\n",
       "</div>"
      ],
      "text/plain": [
       "                      Train Accuracy  Test Accuracy\n",
       "Model Name                                         \n",
       "Random Forest               0.996418       0.880111\n",
       "Gaussian Naive Bayes        0.848411       0.694733\n",
       "SVM                         0.978972       0.886348\n",
       "SVM Optimized               0.996418       0.897436"
      ]
     },
     "execution_count": 19,
     "metadata": {},
     "output_type": "execute_result"
    }
   ],
   "source": [
    "data = [('Random Forest', r_train_accuracy, r_test_accuracy),\n",
    "('Gaussian Naive Bayes',g_train_accuracy, g_test_accuracy),\n",
    "('SVM', s_train_accuracy, s_test_accuracy),\n",
    "('SVM Optimized', so_train_accuracy, so_test_accuracy)]\n",
    "\n",
    "\n",
    "Scores =pd.DataFrame(data = data, columns=['Model Name','Train Accuracy', 'Test Accuracy'])\n",
    "Scores.set_index('Model Name', inplace = True)\n",
    "Scores"
   ]
  },
  {
   "cell_type": "markdown",
   "id": "255a5e90",
   "metadata": {
    "papermill": {
     "duration": 0.04622,
     "end_time": "2022-07-10T16:37:16.970657",
     "exception": false,
     "start_time": "2022-07-10T16:37:16.924437",
     "status": "completed"
    },
    "tags": []
   },
   "source": [
    "\n",
    "<div style=\"color:white;\n",
    "           display:fill;\n",
    "           border-radius:5px;\n",
    "           font-size:110%;\n",
    "           font-family:cursive;\n",
    "           letter-spacing:0.5px;\n",
    "           background-color:powderblue;\n",
    "           color:Black;\n",
    "           font-family:Arial\n",
    "           \">\n",
    "<h1 style=\"text-align:center;font-weight: bold\">Conclusion\n",
    " </h1>\n",
    "</div>\n",
    "\n",
    "**Most of the models are doing pretty well here, and Optimized SVM performed the best.**"
   ]
  }
 ],
 "metadata": {
  "kernelspec": {
   "display_name": "Python 3",
   "language": "python",
   "name": "python3"
  },
  "language_info": {
   "codemirror_mode": {
    "name": "ipython",
    "version": 3
   },
   "file_extension": ".py",
   "mimetype": "text/x-python",
   "name": "python",
   "nbconvert_exporter": "python",
   "pygments_lexer": "ipython3",
   "version": "3.7.10"
  },
  "papermill": {
   "default_parameters": {},
   "duration": 435.793487,
   "end_time": "2022-07-10T16:37:18.352840",
   "environment_variables": {},
   "exception": null,
   "input_path": "__notebook__.ipynb",
   "output_path": "__notebook__.ipynb",
   "parameters": {},
   "start_time": "2022-07-10T16:30:02.559353",
   "version": "2.3.3"
  }
 },
 "nbformat": 4,
 "nbformat_minor": 5
}
